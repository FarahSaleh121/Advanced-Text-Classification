{
 "cells": [
  {
   "cell_type": "code",
   "execution_count": 1,
   "metadata": {},
   "outputs": [],
   "source": [
    "import os \n",
    "import random\n",
    "import nltk\n",
    "from nltk.corpus import stopwords\n",
    "from nltk.tokenize import word_tokenize\n",
    "import matplotlib.pyplot as plt\n",
    "import spacy\n",
    "import re\n",
    "from sklearn.preprocessing import LabelEncoder\n",
    "from sklearn.model_selection import train_test_split\n",
    "import gensim.downloader\n",
    "from gensim.models import Word2Vec\n",
    "from sklearn.ensemble import RandomForestClassifier\n",
    "from sklearn.feature_extraction.text import TfidfVectorizer\n",
    "from sklearn.neighbors import KNeighborsClassifier\n",
    "from sklearn.tree import DecisionTreeClassifier\n",
    "from sklearn.ensemble import StackingClassifier\n",
    "from sklearn.model_selection import GridSearchCV\n",
    "from sklearn.svm import SVC\n",
    "from sklearn import svm\n",
    "import tensorflow as tf\n",
    "from tensorflow.keras.preprocessing.sequence import pad_sequences\n",
    "from tensorflow.keras.models import Sequential\n",
    "from tensorflow.keras.layers import Embedding, LSTM, Dense, Input, Concatenate\n",
    "from sklearn.metrics import confusion_matrix\n",
    "import seaborn as sns\n",
    "import numpy as np\n",
    "import math\n",
    "from sklearn.metrics import accuracy_score, f1_score"
   ]
  },
  {
   "cell_type": "markdown",
   "metadata": {},
   "source": [
    "## Read Data"
   ]
  },
  {
   "cell_type": "code",
   "execution_count": 2,
   "metadata": {},
   "outputs": [],
   "source": [
    "folders_path = '../training'\n",
    "contents = os.listdir(folders_path)\n",
    "# for item in contents:\n",
    "#     print(item)\n",
    "classes=[]\n",
    "\n",
    "for item in contents:\n",
    "    classes.append(item)"
   ]
  },
  {
   "cell_type": "code",
   "execution_count": 3,
   "metadata": {},
   "outputs": [],
   "source": [
    "def create_data_dict_with_numbers(folders_path, contents):\n",
    "    data_dict_with_numbers = {}\n",
    "\n",
    "    for class_name in contents:\n",
    "        class_path = os.path.join(folders_path, class_name)\n",
    "        if os.path.isdir(class_path):\n",
    "            # Initialize dictionary for each class\n",
    "            data_dict_with_numbers[class_name] = {}\n",
    "            doc_counter = 1\n",
    "            for document_name in os.listdir(class_path):\n",
    "                document_path = os.path.join(class_path, document_name) #each file\n",
    "                try:\n",
    "                    with open(document_path, 'r', encoding='utf-8') as file:\n",
    "                        document_contents = file.read()\n",
    "                except UnicodeDecodeError:\n",
    "                    with open(document_path, 'r', encoding='latin') as file:\n",
    "                        document_contents = file.read()\n",
    "                    \n",
    "                # Assign class_name as key and a dictionary with document number as key and document_contents as value\n",
    "                data_dict_with_numbers[class_name][doc_counter] = document_contents\n",
    "                doc_counter += 1\n",
    "    return data_dict_with_numbers\n"
   ]
  },
  {
   "cell_type": "code",
   "execution_count": 4,
   "metadata": {},
   "outputs": [],
   "source": [
    "data_dict = create_data_dict_with_numbers(folders_path,contents)"
   ]
  },
  {
   "cell_type": "code",
   "execution_count": 5,
   "metadata": {},
   "outputs": [
    {
     "name": "stdout",
     "output_type": "stream",
     "text": [
      "acq' : 1650 \n",
      "alum' : 35 \n",
      "barley' : 37 \n",
      "bop' : 75 \n",
      "carcass' : 50 \n",
      "castor-oil' : 1 \n",
      "cocoa' : 55 \n",
      "coconut' : 4 \n",
      "coconut-oil' : 4 \n",
      "coffee' : 111 \n",
      "copper' : 47 \n",
      "copra-cake' : 2 \n",
      "corn' : 181 \n",
      "cotton' : 39 \n",
      "cotton-oil' : 1 \n",
      "cpi' : 69 \n",
      "cpu' : 3 \n",
      "crude' : 389 \n",
      "dfl' : 2 \n",
      "dlr' : 131 \n",
      "dmk' : 10 \n",
      "earn' : 2877 \n",
      "fuel' : 13 \n",
      "gas' : 37 \n",
      "gnp' : 101 \n",
      "gold' : 94 \n",
      "grain' : 433 \n",
      "groundnut' : 5 \n",
      "groundnut-oil' : 1 \n",
      "heat' : 14 \n",
      "hog' : 16 \n",
      "housing' : 16 \n",
      "income' : 9 \n",
      "instal-debt' : 5 \n",
      "interest' : 347 \n",
      "ipi' : 41 \n",
      "iron-steel' : 40 \n",
      "jet' : 4 \n",
      "jobs' : 46 \n",
      "l-cattle' : 6 \n",
      "lead' : 15 \n",
      "lei' : 12 \n",
      "lin-oil' : 1 \n",
      "livestock' : 75 \n",
      "lumber' : 10 \n",
      "meal-feed' : 30 \n",
      "money-fx' : 538 \n",
      "money-supply' : 138 \n",
      "naphtha' : 2 \n",
      "nat-gas' : 75 \n",
      "nickel' : 8 \n",
      "nkr' : 1 \n",
      "nzdlr' : 2 \n",
      "oat' : 8 \n",
      "oilseed' : 124 \n",
      "orange' : 16 \n",
      "palladium' : 2 \n",
      "palm-oil' : 30 \n",
      "palmkernel' : 2 \n",
      "pet-chem' : 20 \n",
      "platinum' : 5 \n",
      "potato' : 3 \n",
      "propane' : 3 \n",
      "rand' : 2 \n",
      "rape-oil' : 5 \n",
      "rapeseed' : 18 \n",
      "reserves' : 55 \n",
      "retail' : 23 \n",
      "rice' : 35 \n",
      "rubber' : 37 \n",
      "rye' : 1 \n",
      "ship' : 197 \n",
      "silver' : 21 \n",
      "sorghum' : 24 \n",
      "soy-meal' : 13 \n",
      "soy-oil' : 14 \n",
      "soybean' : 78 \n",
      "strategic-metal' : 16 \n",
      "sugar' : 126 \n",
      "sun-meal' : 1 \n",
      "sun-oil' : 5 \n",
      "sunseed' : 11 \n",
      "tea' : 9 \n",
      "tin' : 18 \n",
      "trade' : 369 \n",
      "unknown' : 1830 \n",
      "veg-oil' : 87 \n",
      "wheat' : 212 \n",
      "wpi' : 19 \n",
      "yen' : 45 \n",
      "zinc' : 21 \n",
      "\n",
      "Total number of documents across all classes: 11413\n"
     ]
    }
   ],
   "source": [
    "total_documents = 0\n",
    "\n",
    "for class_name, documents in data_dict.items():\n",
    "    num_documents_in_class = len(documents)\n",
    "    print(f\"{class_name}' : {num_documents_in_class} \")\n",
    "    total_documents += num_documents_in_class\n",
    "\n",
    "print(f\"\\nTotal number of documents across all classes: {total_documents}\")"
   ]
  },
  {
   "cell_type": "code",
   "execution_count": 6,
   "metadata": {},
   "outputs": [
    {
     "name": "stdout",
     "output_type": "stream",
     "text": [
      "castor-oil' : 1 \n",
      "cotton-oil' : 1 \n",
      "groundnut-oil' : 1 \n",
      "lin-oil' : 1 \n",
      "nkr' : 1 \n",
      "rye' : 1 \n",
      "sun-meal' : 1 \n"
     ]
    }
   ],
   "source": [
    "# folders have 1 doc\n",
    "\n",
    "total_documents = 0\n",
    "\n",
    "for class_name, documents in data_dict.items():\n",
    "    num_documents_in_class = len(documents)\n",
    "    if num_documents_in_class==1 :\n",
    "        print(f\"{class_name}' : {num_documents_in_class} \")\n",
    "    total_documents += num_documents_in_class"
   ]
  },
  {
   "cell_type": "markdown",
   "metadata": {},
   "source": [
    "### Split Data\n",
    "#### split the content of a single document into training and testing data if there's only one document in a folder"
   ]
  },
  {
   "cell_type": "code",
   "execution_count": 7,
   "metadata": {},
   "outputs": [],
   "source": [
    "train_ratio = 0.8\n",
    "test_ratio = 1 - train_ratio\n",
    "\n",
    "train_data = {}\n",
    "test_data = {}\n",
    "\n",
    "for class_name, documents in data_dict.items():\n",
    "    num_documents = len(documents)\n",
    "    if num_documents == 1:  # If only one document in the folder\n",
    "        document_name, document_content = list(documents.items())[0]\n",
    "        train_content_size = int(len(document_content) * train_ratio)\n",
    "        train_content = document_content[:train_content_size]\n",
    "        test_content = document_content[train_content_size:]\n",
    "\n",
    "        train_data.setdefault(class_name, {})[document_name] = train_content\n",
    "        test_data.setdefault(class_name, {})[document_name] = test_content\n",
    "    else:\n",
    "        # Shuffle the documents\n",
    "        shuffled_documents = list(documents.items())\n",
    "        random.shuffle(shuffled_documents)\n",
    "\n",
    "        train_index = int(train_ratio * num_documents)\n",
    "\n",
    "        train_data[class_name] = dict(shuffled_documents[:train_index])\n",
    "        test_data[class_name] = dict(shuffled_documents[train_index:])"
   ]
  },
  {
   "cell_type": "markdown",
   "metadata": {},
   "source": [
    "## text preprocessing"
   ]
  },
  {
   "cell_type": "code",
   "execution_count": 8,
   "metadata": {},
   "outputs": [],
   "source": [
    "def tokenize_documents(data):\n",
    "    nltk.download('punkt')\n",
    "    nltk.download('stopwords')\n",
    "    stop_words = set(stopwords.words('english'))\n",
    "\n",
    "    tokenized_data_dict = {}\n",
    "\n",
    "    for class_name, documents in data.items():\n",
    "        tokenized_documents = {}\n",
    "        for doc_num, document_content in documents.items():\n",
    "            tokens = word_tokenize(document_content)\n",
    "            # Filter out non-alphabetic tokens and stopwords\n",
    "            filtered_tokens = [token.lower() for token in tokens if token.isalpha() and token.lower() not in stop_words]\n",
    "            tokenized_documents[doc_num] = filtered_tokens\n",
    "        tokenized_data_dict[class_name] = tokenized_documents\n",
    "\n",
    "    return tokenized_data_dict"
   ]
  },
  {
   "cell_type": "code",
   "execution_count": 9,
   "metadata": {},
   "outputs": [],
   "source": [
    "def normalize_documents(data):\n",
    "    normalized_data_dict = {}\n",
    "    for class_name , tokenized_documents in data.items():\n",
    "        normalized_documents = {}\n",
    "        for doc_num , tokens in tokenized_documents.items(): \n",
    "            normalized_tokens = [token.lower() for token in tokens]\n",
    "            normalized_documents[doc_num]=normalized_tokens\n",
    "            normalized_data_dict[class_name]=normalized_documents\n",
    "            \n",
    "    return normalized_data_dict"
   ]
  },
  {
   "cell_type": "code",
   "execution_count": 10,
   "metadata": {},
   "outputs": [],
   "source": [
    "def lemma_documents(data):\n",
    "    nlp = spacy.load(\"en_core_web_sm\")\n",
    "    \n",
    "    lemmatized_data_dict = {}\n",
    "\n",
    "    for class_name, normalized_documents in data.items():\n",
    "        lemmatized_documents = {}\n",
    "        for doc_num, tokens in normalized_documents.items():\n",
    "            doc = nlp(\" \".join(tokens))\n",
    "            \n",
    "            lemmatized_tokens = [token.lemma_ for token in doc]\n",
    "            \n",
    "            lemmatized_documents[doc_num] = lemmatized_tokens\n",
    "        \n",
    "        lemmatized_data_dict[class_name] = lemmatized_documents\n",
    "\n",
    "    return lemmatized_data_dict"
   ]
  },
  {
   "cell_type": "code",
   "execution_count": 11,
   "metadata": {},
   "outputs": [
    {
     "name": "stderr",
     "output_type": "stream",
     "text": [
      "[nltk_data] Downloading package punkt to C:\\Users\\Rahhal\n",
      "[nltk_data]     AbuZahra\\AppData\\Roaming\\nltk_data...\n",
      "[nltk_data]   Package punkt is already up-to-date!\n",
      "[nltk_data] Downloading package stopwords to C:\\Users\\Rahhal\n",
      "[nltk_data]     AbuZahra\\AppData\\Roaming\\nltk_data...\n",
      "[nltk_data]   Package stopwords is already up-to-date!\n",
      "[nltk_data] Downloading package punkt to C:\\Users\\Rahhal\n",
      "[nltk_data]     AbuZahra\\AppData\\Roaming\\nltk_data...\n",
      "[nltk_data]   Package punkt is already up-to-date!\n",
      "[nltk_data] Downloading package stopwords to C:\\Users\\Rahhal\n",
      "[nltk_data]     AbuZahra\\AppData\\Roaming\\nltk_data...\n",
      "[nltk_data]   Package stopwords is already up-to-date!\n"
     ]
    }
   ],
   "source": [
    "tokenized_train_data = tokenize_documents(train_data)\n",
    "normalized_train_data = normalize_documents (tokenized_train_data)\n",
    "lemma_train_data = lemma_documents(normalized_train_data)\n",
    "\n",
    "lemma_test_data = lemma_documents(normalize_documents (tokenize_documents(test_data)))"
   ]
  },
  {
   "cell_type": "markdown",
   "metadata": {},
   "source": [
    "### compute class weights (for imbalanced dataset)"
   ]
  },
  {
   "cell_type": "code",
   "execution_count": 118,
   "metadata": {},
   "outputs": [],
   "source": [
    "# class_weight = total_samples / (num_classes * class_frequency)\n",
    "# more weight to classes with lower frequencies\n",
    "# class with 100 docs = 109 class with 2 = 5494 (if i have total 1000 docs)"
   ]
  },
  {
   "cell_type": "code",
   "execution_count": 12,
   "metadata": {},
   "outputs": [],
   "source": [
    "def calculate_class_weights(data):\n",
    "    \n",
    "    class_counts = {class_name: len(normalized_documents) for class_name, normalized_documents in data.items()}\n",
    "    total_samples = sum(class_counts.values())\n",
    "    class_frequencies = {class_name: count / total_samples for class_name, count in class_counts.items()}\n",
    "    class_weights = {class_name: total_samples / (len(class_counts) * count) for class_name, count in class_frequencies.items()}\n",
    "    \n",
    "    return class_weights"
   ]
  },
  {
   "cell_type": "markdown",
   "metadata": {},
   "source": [
    "# EDA"
   ]
  },
  {
   "cell_type": "markdown",
   "metadata": {},
   "source": [
    "### number of times the \"negotiate\" exist in each class "
   ]
  },
  {
   "cell_type": "code",
   "execution_count": 13,
   "metadata": {},
   "outputs": [],
   "source": [
    "def count_word_occurrences_in_classes(folders_path, word):\n",
    "\n",
    "    results = {}\n",
    "    \n",
    "    classes = os.listdir(folders_path)\n",
    "    \n",
    "    for class_name in classes:\n",
    "        class_path = os.path.join(folders_path, class_name)\n",
    "        \n",
    "        for document in os.listdir(class_path):\n",
    "            document_path = os.path.join(class_path, document)  \n",
    "            with open(document_path, 'r', encoding='utf-8') as file:\n",
    "                content = file.read()\n",
    "                \n",
    "                # Check if the word exists in the document\n",
    "                if re.search(word, content):\n",
    "                    # Increment the count for this class\n",
    "                    if class_name in results:\n",
    "                        results[class_name] += 1\n",
    "                    else:\n",
    "                        results[class_name] = 1\n",
    "    \n",
    "    return results"
   ]
  },
  {
   "cell_type": "code",
   "execution_count": 14,
   "metadata": {},
   "outputs": [
    {
     "name": "stdout",
     "output_type": "stream",
     "text": [
      "{'acq': 65, 'bop': 1, 'cocoa': 5, 'coffee': 12, 'copper': 3, 'corn': 1, 'cotton': 1, 'crude': 12, 'earn': 4, 'gnp': 1, 'grain': 1, 'groundnut': 1, 'interest': 3, 'iron-steel': 2, 'lead': 1, 'lumber': 1, 'money-fx': 5, 'nat-gas': 2, 'oilseed': 3, 'rubber': 3, 'ship': 7, 'soybean': 2, 'sugar': 2, 'tin': 2, 'trade': 26, 'unknown': 58, 'veg-oil': 2, 'wheat': 1, 'zinc': 1}\n"
     ]
    }
   ],
   "source": [
    "word_pattern = r'\\b(negotiate|negotiates|negotiated|negotiating|negotiation)\\b'\n",
    "negotiate_results = count_word_occurrences_in_classes(folders_path, word_pattern)\n",
    "print(negotiate_results)"
   ]
  },
  {
   "cell_type": "code",
   "execution_count": 15,
   "metadata": {},
   "outputs": [
    {
     "data": {
      "image/png": "[encoded data removed]",
      "text/plain": [
       "<Figure size 600x600 with 1 Axes>"
      ]
     },
     "metadata": {},
     "output_type": "display_data"
    }
   ],
   "source": [
    "plt.figure(figsize=(6, 6))\n",
    "plt.pie(negotiate_results.values(), labels=negotiate_results.keys(), autopct='%1.1f%%')\n",
    "plt.title('Distribution of Classes where \"negotiate\" Appears')\n",
    "plt.show()"
   ]
  },
  {
   "cell_type": "markdown",
   "metadata": {},
   "source": [
    "## it seems like \"negotiate\" is an important word in \"acq\" and \"unknown\" class ,so i can use it as feature to decide that the class is \"acq\" or \"unknown\""
   ]
  },
  {
   "cell_type": "code",
   "execution_count": 16,
   "metadata": {},
   "outputs": [
    {
     "name": "stdout",
     "output_type": "stream",
     "text": [
      "{'acq': 296, 'carcass': 1, 'copper': 1, 'corn': 2, 'cotton': 1, 'crude': 5, 'earn': 58, 'grain': 2, 'groundnut': 1, 'lead': 1, 'livestock': 1, 'nat-gas': 2, 'oilseed': 1, 'pet-chem': 1, 'platinum': 1, 'ship': 1, 'sugar': 1, 'trade': 3, 'unknown': 50, 'veg-oil': 1, 'wheat': 1, 'zinc': 1}\n"
     ]
    }
   ],
   "source": [
    "word = r'\\b(acq|acquisition)\\b'\n",
    "acq_results = count_word_occurrences_in_classes(folders_path, word)\n",
    "print(acq_results)"
   ]
  },
  {
   "cell_type": "code",
   "execution_count": 17,
   "metadata": {},
   "outputs": [
    {
     "data": {
      "image/png": "[encoded data removed]",
      "text/plain": [
       "<Figure size 600x600 with 1 Axes>"
      ]
     },
     "metadata": {},
     "output_type": "display_data"
    }
   ],
   "source": [
    "plt.figure(figsize=(6, 6))\n",
    "plt.pie(acq_results.values(), labels=acq_results.keys(), autopct='%1.1f%%')\n",
    "plt.title('Distribution of Classes where \"acq\" Appears')\n",
    "plt.show()"
   ]
  },
  {
   "cell_type": "markdown",
   "metadata": {},
   "source": [
    "### we can tell that the existance of the word \"acq\" is a strong evidence that this is an acquisition-related document "
   ]
  },
  {
   "cell_type": "code",
   "execution_count": 18,
   "metadata": {},
   "outputs": [
    {
     "name": "stdout",
     "output_type": "stream",
     "text": [
      "{'acq': 367, 'alum': 3, 'barley': 1, 'bop': 2, 'carcass': 7, 'cocoa': 13, 'coffee': 14, 'copper': 2, 'corn': 19, 'cotton': 5, 'cotton-oil': 1, 'cpi': 2, 'crude': 32, 'dlr': 4, 'earn': 63, 'gas': 1, 'gnp': 3, 'gold': 3, 'grain': 65, 'groundnut': 2, 'hog': 1, 'interest': 32, 'iron-steel': 2, 'jobs': 1, 'l-cattle': 1, 'livestock': 10, 'lumber': 3, 'meal-feed': 3, 'money-fx': 45, 'money-supply': 4, 'nat-gas': 5, 'nickel': 1, 'nzdlr': 1, 'oat': 1, 'oilseed': 11, 'orange': 1, 'palm-oil': 3, 'rand': 1, 'rapeseed': 1, 'reserves': 2, 'rice': 5, 'rubber': 1, 'rye': 1, 'ship': 35, 'sorghum': 2, 'soy-meal': 2, 'soy-oil': 3, 'soybean': 8, 'sugar': 18, 'sun-oil': 1, 'tea': 2, 'tin': 1, 'trade': 17, 'unknown': 422, 'veg-oil': 9, 'wheat': 45, 'yen': 1, 'zinc': 1}\n"
     ]
    }
   ],
   "source": [
    "offer_pattern = r'\\b(offer|offers|offered|offering)\\b'\n",
    "offer_results = count_word_occurrences_in_classes(folders_path, offer_pattern)\n",
    "print(offer_results)"
   ]
  },
  {
   "cell_type": "code",
   "execution_count": 19,
   "metadata": {},
   "outputs": [
    {
     "data": {
      "image/png": "[encoded data removed]",
      "text/plain": [
       "<Figure size 600x600 with 1 Axes>"
      ]
     },
     "metadata": {},
     "output_type": "display_data"
    }
   ],
   "source": [
    "plt.figure(figsize=(6, 6))\n",
    "plt.pie(offer_results.values(), labels=offer_results.keys(), autopct='%1.1f%%')\n",
    "plt.title('Distribution of Classes where \"offer\" Appears')\n",
    "plt.show()"
   ]
  },
  {
   "cell_type": "code",
   "execution_count": 20,
   "metadata": {},
   "outputs": [],
   "source": [
    "# there's a huge similarity between (acq) and (unknown)\n",
    "# so i need to extract features that can help  distinguish them.\n",
    "# almost  all the information in (acq) is also available for  (unknown) , but having the \"acq\" word in a document can help me decide that it's (acq)\n",
    "# i can think that if the document contains \"negotiate , offer , acq\" then it's class is (acq)\n",
    "# and if the document contains \"negotiate , offer\" then it's class is (unknown)"
   ]
  },
  {
   "cell_type": "code",
   "execution_count": 21,
   "metadata": {},
   "outputs": [],
   "source": [
    "def check_words_in_documents(data, words_to_search):\n",
    "    word_presence = {}\n",
    "    for class_name, documents in data.items():\n",
    "        for doc_num, content in documents.items():\n",
    "            word_presence[doc_num] = 0  \n",
    "            for word in words_to_search:\n",
    "                if word in content:\n",
    "                    word_presence[doc_num] = 1  \n",
    "                    break  # No need to continue searching once a word is found\n",
    "    return word_presence"
   ]
  },
  {
   "cell_type": "code",
   "execution_count": 22,
   "metadata": {},
   "outputs": [],
   "source": [
    "# feature_words = [\"acq\", \"acquire\", \"acquires\", \"acquired\", \"acquiring\", \"acquisition\", \n",
    "#                        \"offer\", \"offers\", \"offered\", \"offering\",\n",
    "#                        \"negoti\", \"negotiate\", \"negotiates\", \"negotiated\", \"negotiating\", \"negotiation\"]\n",
    "first_feature_words = [\"acq\", \"acquire\", \"acquires\", \"acquired\", \"acquiring\", \"acquisition\"]\n",
    "\n",
    "first_feature = check_words_in_documents(lemma_train_data, first_feature_words)"
   ]
  },
  {
   "cell_type": "code",
   "execution_count": 23,
   "metadata": {},
   "outputs": [],
   "source": [
    "sec_feature_words = [ \"offer\", \"offers\", \"offered\", \"offering\"]  \n",
    "sec_feature = check_words_in_documents(lemma_train_data, sec_feature_words)"
   ]
  },
  {
   "cell_type": "code",
   "execution_count": 24,
   "metadata": {},
   "outputs": [],
   "source": [
    "third_feature_words = [\"negoti\", \"negotiate\", \"negotiates\", \"negotiated\", \"negotiating\", \"negotiation\"]  \n",
    "third_feature = check_words_in_documents(lemma_train_data, third_feature_words)"
   ]
  },
  {
   "cell_type": "markdown",
   "metadata": {},
   "source": [
    "# Naive Bayes Model"
   ]
  },
  {
   "cell_type": "markdown",
   "metadata": {},
   "source": [
    "### vocabulary set extraction"
   ]
  },
  {
   "cell_type": "code",
   "execution_count": 25,
   "metadata": {},
   "outputs": [],
   "source": [
    "def extract_vocabulary(data):\n",
    "    vocabulary_set = set()\n",
    "\n",
    "    for class_name, documents in data.items():\n",
    "        for doc_num, tokens in documents.items():\n",
    "            vocabulary_set.update(tokens)\n",
    "\n",
    "    return vocabulary_set"
   ]
  },
  {
   "cell_type": "code",
   "execution_count": 26,
   "metadata": {},
   "outputs": [],
   "source": [
    "vocabulary_set = extract_vocabulary(lemma_train_data)"
   ]
  },
  {
   "cell_type": "markdown",
   "metadata": {},
   "source": [
    "### function to extract the frequency of each token in each class "
   ]
  },
  {
   "cell_type": "code",
   "execution_count": 27,
   "metadata": {},
   "outputs": [],
   "source": [
    "def count_token_occurrences(data):\n",
    "    token_counts = {}\n",
    "\n",
    "    for class_name, documents in data.items():\n",
    "        class_token_counts = {}\n",
    "        for doc_num, tokens in documents.items():\n",
    "            for token in tokens:\n",
    "                if token in class_token_counts:\n",
    "                    class_token_counts[token] += 1\n",
    "                else:\n",
    "                    class_token_counts[token] = 1\n",
    "        token_counts[class_name] = class_token_counts\n",
    "\n",
    "    return token_counts"
   ]
  },
  {
   "cell_type": "code",
   "execution_count": 28,
   "metadata": {},
   "outputs": [],
   "source": [
    "train_token_occurrences = count_token_occurrences(lemma_train_data)\n",
    "test_token_occurrences = count_token_occurrences(lemma_test_data)"
   ]
  },
  {
   "cell_type": "markdown",
   "metadata": {},
   "source": [
    "### function to compute the number of tokens in each class"
   ]
  },
  {
   "cell_type": "code",
   "execution_count": 29,
   "metadata": {},
   "outputs": [],
   "source": [
    "def compute_total_token_counts(token_occurrences):\n",
    "    total_token_counts = {}\n",
    "\n",
    "    for class_name, documents in token_occurrences.items():\n",
    "        total_count = sum(documents.values())\n",
    "        total_token_counts[class_name] = total_count\n",
    "\n",
    "    return total_token_counts"
   ]
  },
  {
   "cell_type": "code",
   "execution_count": 30,
   "metadata": {},
   "outputs": [],
   "source": [
    "train_classes_token_counts = compute_total_token_counts(train_token_occurrences)\n",
    "test_classes_token_counts = compute_total_token_counts(test_token_occurrences)"
   ]
  },
  {
   "cell_type": "markdown",
   "metadata": {},
   "source": [
    "### function to compute the occurrences of each token in each class"
   ]
  },
  {
   "cell_type": "code",
   "execution_count": 31,
   "metadata": {},
   "outputs": [],
   "source": [
    "def count_token_occurrences_in_classes(token_occurrences, vocabulary_set):\n",
    "    token_occurrences_in_classes = {token: {class_name: 0 for class_name in token_occurrences.keys()} for token in vocabulary_set}\n",
    "\n",
    "    for class_name, token_counts in token_occurrences.items():\n",
    "        for token, count in token_counts.items():\n",
    "            if token in vocabulary_set:\n",
    "                token_occurrences_in_classes[token][class_name] += count\n",
    "\n",
    "    return token_occurrences_in_classes\n"
   ]
  },
  {
   "cell_type": "code",
   "execution_count": 32,
   "metadata": {},
   "outputs": [],
   "source": [
    "train_token_occurrences_in_classes = count_token_occurrences_in_classes(train_token_occurrences, vocabulary_set)"
   ]
  },
  {
   "cell_type": "markdown",
   "metadata": {},
   "source": [
    "### prior estimation for each class"
   ]
  },
  {
   "cell_type": "code",
   "execution_count": 33,
   "metadata": {},
   "outputs": [],
   "source": [
    "def estimate_prior(train_data,total_docs):\n",
    "    prior_probs = {}\n",
    "\n",
    "    for class_name, documents in train_data.items():\n",
    "        num_docs_in_class = len(documents)\n",
    "        prior_probs[class_name] = num_docs_in_class / total_docs\n",
    "    \n",
    "    return prior_probs"
   ]
  },
  {
   "cell_type": "code",
   "execution_count": 34,
   "metadata": {},
   "outputs": [
    {
     "name": "stdout",
     "output_type": "stream",
     "text": [
      "Prior probabilities: {'acq': 0.11565758345746079, 'alum': 0.0024533426794006836, 'barley': 0.002540962060807851, 'bop': 0.005257162884430036, 'carcass': 0.0035047752562866906, 'castor-oil': 8.761938140716727e-05, 'cocoa': 0.0038552527819153597, 'coconut': 0.0002628581442215018, 'coconut-oil': 0.0002628581442215018, 'coffee': 0.007710505563830719, 'copper': 0.0032419171120651887, 'copra-cake': 8.761938140716727e-05, 'corn': 0.012617190922632086, 'cotton': 0.0027162008236221854, 'cotton-oil': 8.761938140716727e-05, 'cpi': 0.004819065977394199, 'cpu': 0.00017523876281433454, 'crude': 0.02724962761762902, 'dfl': 8.761938140716727e-05, 'dlr': 0.009112415666345396, 'dmk': 0.0007009550512573382, 'earn': 0.20161219661789187, 'fuel': 0.0008761938140716726, 'gas': 0.002540962060807851, 'gnp': 0.007009550512573381, 'gold': 0.006571453605537545, 'grain': 0.030316305966879873, 'groundnut': 0.0003504775256286691, 'groundnut-oil': 8.761938140716727e-05, 'heat': 0.0009638131954788399, 'hog': 0.0010514325768860072, 'housing': 0.0010514325768860072, 'income': 0.0006133356698501709, 'instal-debt': 0.0003504775256286691, 'interest': 0.024270568649785332, 'ipi': 0.0028038202050293527, 'iron-steel': 0.0028038202050293527, 'jet': 0.0002628581442215018, 'jobs': 0.0031542977306580214, 'l-cattle': 0.0003504775256286691, 'lead': 0.0010514325768860072, 'lei': 0.0007885744326645054, 'lin-oil': 8.761938140716727e-05, 'livestock': 0.005257162884430036, 'lumber': 0.0007009550512573382, 'meal-feed': 0.0021028651537720144, 'money-fx': 0.03767633400508193, 'money-supply': 0.009638131954788399, 'naphtha': 8.761938140716727e-05, 'nat-gas': 0.005257162884430036, 'nickel': 0.0005257162884430036, 'nkr': 8.761938140716727e-05, 'nzdlr': 8.761938140716727e-05, 'oat': 0.0005257162884430036, 'oilseed': 0.00867431875930956, 'orange': 0.0010514325768860072, 'palladium': 8.761938140716727e-05, 'palm-oil': 0.0021028651537720144, 'palmkernel': 8.761938140716727e-05, 'pet-chem': 0.0014019101025146764, 'platinum': 0.0003504775256286691, 'potato': 0.00017523876281433454, 'propane': 0.00017523876281433454, 'rand': 8.761938140716727e-05, 'rape-oil': 0.0003504775256286691, 'rapeseed': 0.0012266713397003418, 'reserves': 0.0038552527819153597, 'retail': 0.0015771488653290107, 'rice': 0.0024533426794006836, 'rubber': 0.002540962060807851, 'rye': 8.761938140716727e-05, 'ship': 0.01375624288092526, 'silver': 0.0014019101025146764, 'sorghum': 0.001664768246736178, 'soy-meal': 0.0008761938140716726, 'soy-oil': 0.0009638131954788399, 'soybean': 0.005432401647244371, 'strategic-metal': 0.0010514325768860072, 'sugar': 0.008761938140716727, 'sun-meal': 8.761938140716727e-05, 'sun-oil': 0.0003504775256286691, 'sunseed': 0.0007009550512573382, 'tea': 0.0006133356698501709, 'tin': 0.0012266713397003418, 'trade': 0.025847717515114343, 'unknown': 0.12827477438009288, 'veg-oil': 0.006045737317094541, 'wheat': 0.014807675457811267, 'wpi': 0.001314290721107509, 'yen': 0.0031542977306580214, 'zinc': 0.0014019101025146764}\n"
     ]
    }
   ],
   "source": [
    "prior_probs = estimate_prior(train_data,total_documents)\n",
    "print(\"Prior probabilities:\", prior_probs)"
   ]
  },
  {
   "cell_type": "markdown",
   "metadata": {},
   "source": [
    "### conditional probabilities "
   ]
  },
  {
   "cell_type": "code",
   "execution_count": 35,
   "metadata": {},
   "outputs": [],
   "source": [
    "def compute_likelihood(token_occurrences, total_token_counts, vocabulary_set):\n",
    "\n",
    "    likelihood_probs = {}\n",
    "\n",
    "    for class_name, token_count in token_occurrences.items():\n",
    "        class_likelihood = {}\n",
    "        total_class_tokens = total_token_counts[class_name]\n",
    "        for token in vocabulary_set:\n",
    "            token_count_in_class = token_count.get(token, 0)\n",
    "            likelihood = (token_count_in_class + 1) / (total_class_tokens + len(vocabulary_set))\n",
    "            class_likelihood[token] = likelihood\n",
    "        likelihood_probs[class_name] = class_likelihood\n",
    "\n",
    "    return likelihood_probs"
   ]
  },
  {
   "cell_type": "code",
   "execution_count": 36,
   "metadata": {},
   "outputs": [],
   "source": [
    "likelihood_probs = compute_likelihood(train_token_occurrences, train_classes_token_counts, vocabulary_set)"
   ]
  },
  {
   "cell_type": "markdown",
   "metadata": {},
   "source": [
    "### prediction"
   ]
  },
  {
   "cell_type": "code",
   "execution_count": 37,
   "metadata": {},
   "outputs": [],
   "source": [
    "def predict_NB(document, prior_probs, token_likelihoods):\n",
    "    scores = {}\n",
    "\n",
    "    for class_name in prior_probs:\n",
    "        if prior_probs[class_name] == 0:  # Skip if prior probability is zero\n",
    "            continue\n",
    "        scores[class_name] = math.log(prior_probs[class_name])\n",
    "        for token in document:\n",
    "            if token in token_likelihoods[class_name]:\n",
    "               scores[class_name] += math.log(token_likelihoods[class_name][token])\n",
    "\n",
    "    return scores\n"
   ]
  },
  {
   "cell_type": "code",
   "execution_count": 38,
   "metadata": {},
   "outputs": [],
   "source": [
    "correct_predicts = 0\n",
    "true_labels = []\n",
    "predicted_labels = []\n",
    "\n",
    "for class_name, documents in lemma_test_data.items():\n",
    "\n",
    "    for doc_num, document_tokens in documents.items():\n",
    "\n",
    "        scores = predict_NB(document_tokens, prior_probs, likelihood_probs)\n",
    "        predicted_class = max(scores, key=scores.get)\n",
    "        \n",
    "        true_labels.append(class_name)\n",
    "        predicted_labels.append(predicted_class)\n",
    "        \n",
    "        \n",
    "        if predicted_class == class_name:\n",
    "            correct_predicts += 1"
   ]
  },
  {
   "cell_type": "code",
   "execution_count": 39,
   "metadata": {},
   "outputs": [
    {
     "name": "stdout",
     "output_type": "stream",
     "text": [
      "Macro-Averaged F1 Score: 0.14375254244114982\n"
     ]
    }
   ],
   "source": [
    "print(\"Macro-Averaged F1 Score:\", f1_score(true_labels, predicted_labels, average=\"macro\"))"
   ]
  },
  {
   "cell_type": "code",
   "execution_count": 40,
   "metadata": {},
   "outputs": [
    {
     "name": "stderr",
     "output_type": "stream",
     "text": [
      "[nltk_data] Downloading package punkt to C:\\Users\\Rahhal\n",
      "[nltk_data]     AbuZahra\\AppData\\Roaming\\nltk_data...\n",
      "[nltk_data]   Package punkt is already up-to-date!\n",
      "[nltk_data] Downloading package stopwords to C:\\Users\\Rahhal\n",
      "[nltk_data]     AbuZahra\\AppData\\Roaming\\nltk_data...\n",
      "[nltk_data]   Package stopwords is already up-to-date!\n"
     ]
    }
   ],
   "source": [
    "lemmatized_data = lemma_documents(normalize_documents(tokenize_documents(data_dict)))"
   ]
  },
  {
   "cell_type": "code",
   "execution_count": 41,
   "metadata": {},
   "outputs": [],
   "source": [
    "test_data_dict = create_data_dict_with_numbers ( '../test' , os.listdir('../test'))"
   ]
  },
  {
   "cell_type": "code",
   "execution_count": 42,
   "metadata": {},
   "outputs": [
    {
     "name": "stderr",
     "output_type": "stream",
     "text": [
      "[nltk_data] Downloading package punkt to C:\\Users\\Rahhal\n",
      "[nltk_data]     AbuZahra\\AppData\\Roaming\\nltk_data...\n",
      "[nltk_data]   Package punkt is already up-to-date!\n",
      "[nltk_data] Downloading package stopwords to C:\\Users\\Rahhal\n",
      "[nltk_data]     AbuZahra\\AppData\\Roaming\\nltk_data...\n",
      "[nltk_data]   Package stopwords is already up-to-date!\n"
     ]
    }
   ],
   "source": [
    "lemmatized_test_data = lemma_documents(normalize_documents(tokenize_documents(test_data_dict)))"
   ]
  },
  {
   "cell_type": "code",
   "execution_count": 43,
   "metadata": {},
   "outputs": [],
   "source": [
    "test_labels = []\n",
    "\n",
    "for class_name, documents in lemmatized_test_data.items():\n",
    "    for doc_num, tokens in documents.items():\n",
    "         test_labels.append(class_name)"
   ]
  },
  {
   "cell_type": "code",
   "execution_count": 44,
   "metadata": {},
   "outputs": [],
   "source": [
    "class_weights = calculate_class_weights(lemmatized_data)"
   ]
  },
  {
   "cell_type": "markdown",
   "metadata": {},
   "source": [
    "# Random Forest (embedding)"
   ]
  },
  {
   "cell_type": "code",
   "execution_count": 45,
   "metadata": {},
   "outputs": [],
   "source": [
    "word2vec_model = gensim.downloader.load('word2vec-google-news-300')\n",
    "fasttext_model = gensim.downloader.load('fasttext-wiki-news-subwords-300')\n",
    "glove_model = gensim.downloader.load('glove-wiki-gigaword-300')"
   ]
  },
  {
   "cell_type": "code",
   "execution_count": 48,
   "metadata": {},
   "outputs": [],
   "source": [
    "UNK_token = \"<UNK>\"\n",
    "UNK_emb_dim = 300"
   ]
  },
  {
   "cell_type": "code",
   "execution_count": 49,
   "metadata": {},
   "outputs": [],
   "source": [
    "def document_embedding(document, model):\n",
    "    word_embeddings = []\n",
    "    unk_embedding = np.random.rand(UNK_emb_dim) \n",
    "    \n",
    "    for word in document:\n",
    "        if word in model.key_to_index:\n",
    "            word_embeddings.append(model[word])\n",
    "        else:\n",
    "            word_embeddings.append(unk_embedding)  # Use <UNK> embedding for OOV words\n",
    "    \n",
    "    if not word_embeddings:\n",
    "        return None\n",
    "    \n",
    "    # Average the word embeddings to get document embedding\n",
    "    avg_embedding = sum(word_embeddings) / len(word_embeddings)\n",
    "    \n",
    "    return avg_embedding"
   ]
  },
  {
   "cell_type": "code",
   "execution_count": 50,
   "metadata": {},
   "outputs": [],
   "source": [
    "def document_embeddings(data, model):\n",
    "    document_embeddings_dict = {}\n",
    "    for class_name, documents in data.items():\n",
    "        embeddings = {}\n",
    "        for doc_num, tokens in documents.items():\n",
    "            embedding = document_embedding(tokens, model)\n",
    "            if embedding is not None:\n",
    "                embeddings[doc_num] = embedding\n",
    "        document_embeddings_dict[class_name] = embeddings\n",
    "    return document_embeddings_dict"
   ]
  },
  {
   "cell_type": "code",
   "execution_count": 51,
   "metadata": {},
   "outputs": [],
   "source": [
    "def prepare_data(doc_embeddings):\n",
    "    X = []\n",
    "    y = []\n",
    "    for class_name, embeddings in doc_embeddings.items():\n",
    "        for doc_num, embedding in embeddings.items():\n",
    "            X.append(embedding)\n",
    "            y.append(class_name)\n",
    "    return X, y"
   ]
  },
  {
   "cell_type": "code",
   "execution_count": 119,
   "metadata": {},
   "outputs": [],
   "source": [
    "def train_classifier ( X_train , y_train) :\n",
    "    \n",
    "    rf_classifier = RandomForestClassifier(n_estimators=250 , random_state=42 , class_weight=class_weights)\n",
    "    rf_classifier.fit(X_train, y_train)\n",
    "    \n",
    "    return rf_classifier"
   ]
  },
  {
   "cell_type": "code",
   "execution_count": 53,
   "metadata": {},
   "outputs": [],
   "source": [
    "def evaluate_classifier(classifier, X_test, y_test):\n",
    "\n",
    "    y_pred = classifier.predict(X_test)\n",
    "    print(\"Macro-averaged F1 score:\", f1_score(y_test, y_pred, average='macro'))  "
   ]
  },
  {
   "cell_type": "code",
   "execution_count": 54,
   "metadata": {},
   "outputs": [],
   "source": [
    "doc_embeddings_word2vec = document_embeddings(lemmatized_data, word2vec_model)\n",
    "doc_embeddings_fasttext = document_embeddings(lemmatized_data, fasttext_model)\n",
    "doc_embeddings_glove = document_embeddings(lemmatized_data, glove_model)"
   ]
  },
  {
   "cell_type": "code",
   "execution_count": 55,
   "metadata": {},
   "outputs": [],
   "source": [
    "X_word2vec, y_word2vec = prepare_data(doc_embeddings_word2vec)\n",
    "X_fasttext, y_fasttext = prepare_data(doc_embeddings_fasttext)\n",
    "X_glove, y_glove = prepare_data(doc_embeddings_glove)"
   ]
  },
  {
   "cell_type": "code",
   "execution_count": 56,
   "metadata": {},
   "outputs": [],
   "source": [
    "X_train_word2vec, X_test_word2vec, y_train_word2vec, y_test_word2vec = train_test_split(X_word2vec, y_word2vec, test_size=0.2, random_state=42)\n",
    "X_train_fasttext, X_test_fasttext, y_train_fasttext, y_test_fasttext = train_test_split(X_fasttext, y_fasttext, test_size=0.2, random_state=42)\n",
    "X_train_glove, X_test_glove, y_train_glove, y_test_glove = train_test_split(X_glove, y_glove, test_size=0.2, random_state=42)"
   ]
  },
  {
   "cell_type": "code",
   "execution_count": 57,
   "metadata": {},
   "outputs": [],
   "source": [
    "# Initialize Random Forest classifier\n",
    "classifier_word2vec = train_classifier(X_train_word2vec, y_train_word2vec )\n",
    "classifier_fasttext = train_classifier(X_train_fasttext, y_train_fasttext )\n",
    "classifier_glove = train_classifier(X_train_glove, y_train_glove )"
   ]
  },
  {
   "cell_type": "code",
   "execution_count": 58,
   "metadata": {},
   "outputs": [
    {
     "name": "stdout",
     "output_type": "stream",
     "text": [
      "Macro-averaged F1 score: 0.1393533385685387\n",
      "Macro-averaged F1 score: 0.11192167739785741\n",
      "Macro-averaged F1 score: 0.18346103196572838\n"
     ]
    }
   ],
   "source": [
    "# Predict class embeddings for testing data\n",
    "y_pred_word2vec = evaluate_classifier(classifier_word2vec, X_test_word2vec, y_test_word2vec)\n",
    "y_pred_fasttext = evaluate_classifier (classifier_fasttext , X_test_fasttext , y_test_fasttext)\n",
    "y_pred_glove = evaluate_classifier (classifier_glove , X_test_glove , y_test_glove)"
   ]
  },
  {
   "cell_type": "code",
   "execution_count": 59,
   "metadata": {},
   "outputs": [],
   "source": [
    "# testing"
   ]
  },
  {
   "cell_type": "code",
   "execution_count": 63,
   "metadata": {},
   "outputs": [],
   "source": [
    "doc_embeddings_word2vec_test = document_embeddings(lemmatized_test_data, word2vec_model)\n",
    "doc_embeddings_fasttext_test = document_embeddings(lemmatized_test_data, fasttext_model)\n",
    "doc_embeddings_glove_test = document_embeddings(lemmatized_test_data, glove_model)"
   ]
  },
  {
   "cell_type": "code",
   "execution_count": 64,
   "metadata": {},
   "outputs": [],
   "source": [
    "X_word2vec_test, y_word2vec_test = prepare_data(doc_embeddings_word2vec_test)\n",
    "X_fasttext_test, y_fasttext_test = prepare_data(doc_embeddings_fasttext_test)\n",
    "X_glove_test, y_glove_test = prepare_data(doc_embeddings_glove_test)"
   ]
  },
  {
   "cell_type": "code",
   "execution_count": 65,
   "metadata": {},
   "outputs": [
    {
     "name": "stdout",
     "output_type": "stream",
     "text": [
      "Macro-averaged F1 score: 0.1620048652296069\n",
      "Macro-averaged F1 score: 0.13139117492919597\n",
      "Macro-averaged F1 score: 0.21512781466610495\n"
     ]
    }
   ],
   "source": [
    "# Predict class embeddings for testing data\n",
    "evaluate_classifier(classifier_word2vec, X_word2vec_test, y_word2vec_test)\n",
    "evaluate_classifier (classifier_fasttext , X_fasttext_test , y_fasttext_test)\n",
    "evaluate_classifier (classifier_glove , X_glove_test , y_glove_test)"
   ]
  },
  {
   "cell_type": "markdown",
   "metadata": {},
   "source": [
    "# Random Forest ( TF-IDF )"
   ]
  },
  {
   "cell_type": "code",
   "execution_count": 66,
   "metadata": {},
   "outputs": [],
   "source": [
    "def tfidf_representation(data, tfidf_vectorizer_RF=None):\n",
    "    # Create a list to store documents\n",
    "    documents = []\n",
    "    class_labels = []\n",
    "    \n",
    "    for class_name, lemmatized_documents in data.items():\n",
    "        for doc_num, lemmatized_tokens in lemmatized_documents.items():\n",
    "            # Join the lemmatized tokens back into a single string\n",
    "            document_text = \" \".join(lemmatized_tokens)\n",
    "            documents.append(document_text)\n",
    "            class_labels.append(class_name)\n",
    "            \n",
    "    if tfidf_vectorizer_RF is None:\n",
    "        tfidf_vectorizer_RF = TfidfVectorizer()\n",
    "    \n",
    "    # Compute TF-IDF vectors for the documents\n",
    "    tfidf_vectors = tfidf_vectorizer_RF.fit_transform(documents)\n",
    "    \n",
    "    # Convert the sparse TF-IDF matrix to a dense array\n",
    "    tfidf_matrix = tfidf_vectors.toarray()\n",
    "    \n",
    "    return tfidf_matrix, class_labels , tfidf_vectorizer_RF\n"
   ]
  },
  {
   "cell_type": "code",
   "execution_count": 67,
   "metadata": {},
   "outputs": [],
   "source": [
    "tfidf_matrix_RF, class_labels_RF,tfidf_vectorizer_RF  = tfidf_representation(lemmatized_data)"
   ]
  },
  {
   "cell_type": "code",
   "execution_count": 68,
   "metadata": {},
   "outputs": [],
   "source": [
    "X_train_TF_RF, X_test_TF_RF, y_train_TF_RF, y_test_TF_RF = train_test_split(tfidf_matrix_RF, class_labels_RF, test_size=0.2, random_state=42)"
   ]
  },
  {
   "cell_type": "code",
   "execution_count": 69,
   "metadata": {},
   "outputs": [],
   "source": [
    "RF_TF_classifier = RandomForestClassifier(n_estimators=100, random_state=42 ,class_weight=class_weights)"
   ]
  },
  {
   "cell_type": "code",
   "execution_count": 70,
   "metadata": {},
   "outputs": [
    {
     "data": {
      "text/html": [
       "<style>#sk-container-id-1 {color: black;}#sk-container-id-1 pre{padding: 0;}#sk-container-id-1 div.sk-toggleable {background-color: white;}#sk-container-id-1 label.sk-toggleable__label {cursor: pointer;display: block;width: 100%;margin-bottom: 0;padding: 0.3em;box-sizing: border-box;text-align: center;}#sk-container-id-1 label.sk-toggleable__label-arrow:before {content: \"▸\";float: left;margin-right: 0.25em;color: #696969;}#sk-container-id-1 label.sk-toggleable__label-arrow:hover:before {color: black;}#sk-container-id-1 div.sk-estimator:hover label.sk-toggleable__label-arrow:before {color: black;}#sk-container-id-1 div.sk-toggleable__content {max-height: 0;max-width: 0;overflow: hidden;text-align: left;background-color: #f0f8ff;}#sk-container-id-1 div.sk-toggleable__content pre {margin: 0.2em;color: black;border-radius: 0.25em;background-color: #f0f8ff;}#sk-container-id-1 input.sk-toggleable__control:checked~div.sk-toggleable__content {max-height: 200px;max-width: 100%;overflow: auto;}#sk-container-id-1 input.sk-toggleable__control:checked~label.sk-toggleable__label-arrow:before {content: \"▾\";}#sk-container-id-1 div.sk-estimator input.sk-toggleable__control:checked~label.sk-toggleable__label {background-color: #d4ebff;}#sk-container-id-1 div.sk-label input.sk-toggleable__control:checked~label.sk-toggleable__label {background-color: #d4ebff;}#sk-container-id-1 input.sk-hidden--visually {border: 0;clip: rect(1px 1px 1px 1px);clip: rect(1px, 1px, 1px, 1px);height: 1px;margin: -1px;overflow: hidden;padding: 0;position: absolute;width: 1px;}#sk-container-id-1 div.sk-estimator {font-family: monospace;background-color: #f0f8ff;border: 1px dotted black;border-radius: 0.25em;box-sizing: border-box;margin-bottom: 0.5em;}#sk-container-id-1 div.sk-estimator:hover {background-color: #d4ebff;}#sk-container-id-1 div.sk-parallel-item::after {content: \"\";width: 100%;border-bottom: 1px solid gray;flex-grow: 1;}#sk-container-id-1 div.sk-label:hover label.sk-toggleable__label {background-color: #d4ebff;}#sk-container-id-1 div.sk-serial::before {content: \"\";position: absolute;border-left: 1px solid gray;box-sizing: border-box;top: 0;bottom: 0;left: 50%;z-index: 0;}#sk-container-id-1 div.sk-serial {display: flex;flex-direction: column;align-items: center;background-color: white;padding-right: 0.2em;padding-left: 0.2em;position: relative;}#sk-container-id-1 div.sk-item {position: relative;z-index: 1;}#sk-container-id-1 div.sk-parallel {display: flex;align-items: stretch;justify-content: center;background-color: white;position: relative;}#sk-container-id-1 div.sk-item::before, #sk-container-id-1 div.sk-parallel-item::before {content: \"\";position: absolute;border-left: 1px solid gray;box-sizing: border-box;top: 0;bottom: 0;left: 50%;z-index: -1;}#sk-container-id-1 div.sk-parallel-item {display: flex;flex-direction: column;z-index: 1;position: relative;background-color: white;}#sk-container-id-1 div.sk-parallel-item:first-child::after {align-self: flex-end;width: 50%;}#sk-container-id-1 div.sk-parallel-item:last-child::after {align-self: flex-start;width: 50%;}#sk-container-id-1 div.sk-parallel-item:only-child::after {width: 0;}#sk-container-id-1 div.sk-dashed-wrapped {border: 1px dashed gray;margin: 0 0.4em 0.5em 0.4em;box-sizing: border-box;padding-bottom: 0.4em;background-color: white;}#sk-container-id-1 div.sk-label label {font-family: monospace;font-weight: bold;display: inline-block;line-height: 1.2em;}#sk-container-id-1 div.sk-label-container {text-align: center;}#sk-container-id-1 div.sk-container {/* jupyter's `normalize.less` sets `[hidden] { display: none; }` but bootstrap.min.css set `[hidden] { display: none !important; }` so we also need the `!important` here to be able to override the default hidden behavior on the sphinx rendered scikit-learn.org. See: https://github.com/scikit-learn/scikit-learn/issues/21755 */display: inline-block !important;position: relative;}#sk-container-id-1 div.sk-text-repr-fallback {display: none;}</style><div id=\"sk-container-id-1\" class=\"sk-top-container\"><div class=\"sk-text-repr-fallback\"><pre>RandomForestClassifier(class_weight={&#x27;acq&#x27;: 867.5096170496171,\n",
       "                                     &#x27;alum&#x27;: 40896.88194662481,\n",
       "                                     &#x27;barley&#x27;: 38686.23967923968,\n",
       "                                     &#x27;bop&#x27;: 19085.211575091576,\n",
       "                                     &#x27;carcass&#x27;: 28627.81736263736,\n",
       "                                     &#x27;castor-oil&#x27;: 1431390.868131868,\n",
       "                                     &#x27;cocoa&#x27;: 26025.288511488514,\n",
       "                                     &#x27;coconut&#x27;: 357847.717032967,\n",
       "                                     &#x27;coconut-oil&#x27;: 357847.717032967,\n",
       "                                     &#x27;coffee&#x27;: 12895.413226413228,\n",
       "                                     &#x27;copper&#x27;: 30455.12485386954,\n",
       "                                     &#x27;copra-cake&#x27;:...\n",
       "                                     &#x27;crude&#x27;: 3679.668041470098,\n",
       "                                     &#x27;dfl&#x27;: 715695.434065934,\n",
       "                                     &#x27;dlr&#x27;: 10926.647848334871,\n",
       "                                     &#x27;dmk&#x27;: 143139.08681318682,\n",
       "                                     &#x27;earn&#x27;: 497.52897745285657,\n",
       "                                     &#x27;fuel&#x27;: 110106.98985629754,\n",
       "                                     &#x27;gas&#x27;: 38686.23967923968,\n",
       "                                     &#x27;gnp&#x27;: 14172.186813186812,\n",
       "                                     &#x27;gold&#x27;: 15227.56242693477,\n",
       "                                     &#x27;grain&#x27;: 3305.752582290688,\n",
       "                                     &#x27;groundnut&#x27;: 286278.17362637364,\n",
       "                                     &#x27;groundnut-oil&#x27;: 1431390.868131868,\n",
       "                                     &#x27;heat&#x27;: 102242.20486656201, ...},\n",
       "                       random_state=42)</pre><b>In a Jupyter environment, please rerun this cell to show the HTML representation or trust the notebook. <br />On GitHub, the HTML representation is unable to render, please try loading this page with nbviewer.org.</b></div><div class=\"sk-container\" hidden><div class=\"sk-item\"><div class=\"sk-estimator sk-toggleable\"><input class=\"sk-toggleable__control sk-hidden--visually\" id=\"sk-estimator-id-1\" type=\"checkbox\" checked><label for=\"sk-estimator-id-1\" class=\"sk-toggleable__label sk-toggleable__label-arrow\">RandomForestClassifier</label><div class=\"sk-toggleable__content\"><pre>RandomForestClassifier(class_weight={&#x27;acq&#x27;: 867.5096170496171,\n",
       "                                     &#x27;alum&#x27;: 40896.88194662481,\n",
       "                                     &#x27;barley&#x27;: 38686.23967923968,\n",
       "                                     &#x27;bop&#x27;: 19085.211575091576,\n",
       "                                     &#x27;carcass&#x27;: 28627.81736263736,\n",
       "                                     &#x27;castor-oil&#x27;: 1431390.868131868,\n",
       "                                     &#x27;cocoa&#x27;: 26025.288511488514,\n",
       "                                     &#x27;coconut&#x27;: 357847.717032967,\n",
       "                                     &#x27;coconut-oil&#x27;: 357847.717032967,\n",
       "                                     &#x27;coffee&#x27;: 12895.413226413228,\n",
       "                                     &#x27;copper&#x27;: 30455.12485386954,\n",
       "                                     &#x27;copra-cake&#x27;:...\n",
       "                                     &#x27;crude&#x27;: 3679.668041470098,\n",
       "                                     &#x27;dfl&#x27;: 715695.434065934,\n",
       "                                     &#x27;dlr&#x27;: 10926.647848334871,\n",
       "                                     &#x27;dmk&#x27;: 143139.08681318682,\n",
       "                                     &#x27;earn&#x27;: 497.52897745285657,\n",
       "                                     &#x27;fuel&#x27;: 110106.98985629754,\n",
       "                                     &#x27;gas&#x27;: 38686.23967923968,\n",
       "                                     &#x27;gnp&#x27;: 14172.186813186812,\n",
       "                                     &#x27;gold&#x27;: 15227.56242693477,\n",
       "                                     &#x27;grain&#x27;: 3305.752582290688,\n",
       "                                     &#x27;groundnut&#x27;: 286278.17362637364,\n",
       "                                     &#x27;groundnut-oil&#x27;: 1431390.868131868,\n",
       "                                     &#x27;heat&#x27;: 102242.20486656201, ...},\n",
       "                       random_state=42)</pre></div></div></div></div></div>"
      ],
      "text/plain": [
       "RandomForestClassifier(class_weight={'acq': 867.5096170496171,\n",
       "                                     'alum': 40896.88194662481,\n",
       "                                     'barley': 38686.23967923968,\n",
       "                                     'bop': 19085.211575091576,\n",
       "                                     'carcass': 28627.81736263736,\n",
       "                                     'castor-oil': 1431390.868131868,\n",
       "                                     'cocoa': 26025.288511488514,\n",
       "                                     'coconut': 357847.717032967,\n",
       "                                     'coconut-oil': 357847.717032967,\n",
       "                                     'coffee': 12895.413226413228,\n",
       "                                     'copper': 30455.12485386954,\n",
       "                                     'copra-cake':...\n",
       "                                     'crude': 3679.668041470098,\n",
       "                                     'dfl': 715695.434065934,\n",
       "                                     'dlr': 10926.647848334871,\n",
       "                                     'dmk': 143139.08681318682,\n",
       "                                     'earn': 497.52897745285657,\n",
       "                                     'fuel': 110106.98985629754,\n",
       "                                     'gas': 38686.23967923968,\n",
       "                                     'gnp': 14172.186813186812,\n",
       "                                     'gold': 15227.56242693477,\n",
       "                                     'grain': 3305.752582290688,\n",
       "                                     'groundnut': 286278.17362637364,\n",
       "                                     'groundnut-oil': 1431390.868131868,\n",
       "                                     'heat': 102242.20486656201, ...},\n",
       "                       random_state=42)"
      ]
     },
     "execution_count": 70,
     "metadata": {},
     "output_type": "execute_result"
    }
   ],
   "source": [
    "RF_TF_classifier.fit(X_train_TF_RF, y_train_TF_RF)"
   ]
  },
  {
   "cell_type": "code",
   "execution_count": 71,
   "metadata": {},
   "outputs": [],
   "source": [
    "y_pred_TF_RF = RF_TF_classifier.predict(X_test_TF_RF)"
   ]
  },
  {
   "cell_type": "code",
   "execution_count": 83,
   "metadata": {},
   "outputs": [
    {
     "name": "stdout",
     "output_type": "stream",
     "text": [
      "Accuracy with TF IDF: 0.6618484450284713\n",
      "Random Forest Macro F-score with TF IDF: 0.2325186621994876\n"
     ]
    }
   ],
   "source": [
    "print(\"Accuracy with TF IDF:\", accuracy_score(y_test_TF_RF, y_pred_TF_RF))\n",
    "\n",
    "print(\"Random Forest Macro F-score with TF IDF:\", f1_score(y_test_TF_RF, y_pred_TF_RF, average='macro'))"
   ]
  },
  {
   "cell_type": "code",
   "execution_count": 73,
   "metadata": {},
   "outputs": [],
   "source": [
    "# testing"
   ]
  },
  {
   "cell_type": "code",
   "execution_count": 74,
   "metadata": {},
   "outputs": [],
   "source": [
    "testing_documents = []\n",
    "testing_labels=[]\n",
    "for class_name, lemmatized_documents in lemmatized_test_data.items():\n",
    "    for doc_num, lemmatized_tokens in lemmatized_documents.items():\n",
    "        # Join the lemmatized tokens back into a single string\n",
    "        document_text = \" \".join(lemmatized_tokens)\n",
    "        testing_documents.append(document_text)\n",
    "        testing_labels.append(class_name)"
   ]
  },
  {
   "cell_type": "code",
   "execution_count": 75,
   "metadata": {},
   "outputs": [],
   "source": [
    "tfidf_matrix_RF_testing = tfidf_vectorizer_RF.transform ( testing_documents )"
   ]
  },
  {
   "cell_type": "code",
   "execution_count": 76,
   "metadata": {},
   "outputs": [],
   "source": [
    "y_pred_TF_RF_testing = RF_TF_classifier.predict(tfidf_matrix_RF_testing)"
   ]
  },
  {
   "cell_type": "code",
   "execution_count": 84,
   "metadata": {},
   "outputs": [
    {
     "name": "stdout",
     "output_type": "stream",
     "text": [
      "Random Forest Macro F-score with TF IDF testing: 0.31770688889925497\n"
     ]
    }
   ],
   "source": [
    "print(\"Random Forest Macro F-score with TF IDF testing:\", f1_score(testing_labels, y_pred_TF_RF_testing, average='macro'))"
   ]
  },
  {
   "cell_type": "markdown",
   "metadata": {},
   "source": [
    "# KNN"
   ]
  },
  {
   "cell_type": "code",
   "execution_count": 78,
   "metadata": {},
   "outputs": [
    {
     "data": {
      "text/html": [
       "<style>#sk-container-id-2 {color: black;}#sk-container-id-2 pre{padding: 0;}#sk-container-id-2 div.sk-toggleable {background-color: white;}#sk-container-id-2 label.sk-toggleable__label {cursor: pointer;display: block;width: 100%;margin-bottom: 0;padding: 0.3em;box-sizing: border-box;text-align: center;}#sk-container-id-2 label.sk-toggleable__label-arrow:before {content: \"▸\";float: left;margin-right: 0.25em;color: #696969;}#sk-container-id-2 label.sk-toggleable__label-arrow:hover:before {color: black;}#sk-container-id-2 div.sk-estimator:hover label.sk-toggleable__label-arrow:before {color: black;}#sk-container-id-2 div.sk-toggleable__content {max-height: 0;max-width: 0;overflow: hidden;text-align: left;background-color: #f0f8ff;}#sk-container-id-2 div.sk-toggleable__content pre {margin: 0.2em;color: black;border-radius: 0.25em;background-color: #f0f8ff;}#sk-container-id-2 input.sk-toggleable__control:checked~div.sk-toggleable__content {max-height: 200px;max-width: 100%;overflow: auto;}#sk-container-id-2 input.sk-toggleable__control:checked~label.sk-toggleable__label-arrow:before {content: \"▾\";}#sk-container-id-2 div.sk-estimator input.sk-toggleable__control:checked~label.sk-toggleable__label {background-color: #d4ebff;}#sk-container-id-2 div.sk-label input.sk-toggleable__control:checked~label.sk-toggleable__label {background-color: #d4ebff;}#sk-container-id-2 input.sk-hidden--visually {border: 0;clip: rect(1px 1px 1px 1px);clip: rect(1px, 1px, 1px, 1px);height: 1px;margin: -1px;overflow: hidden;padding: 0;position: absolute;width: 1px;}#sk-container-id-2 div.sk-estimator {font-family: monospace;background-color: #f0f8ff;border: 1px dotted black;border-radius: 0.25em;box-sizing: border-box;margin-bottom: 0.5em;}#sk-container-id-2 div.sk-estimator:hover {background-color: #d4ebff;}#sk-container-id-2 div.sk-parallel-item::after {content: \"\";width: 100%;border-bottom: 1px solid gray;flex-grow: 1;}#sk-container-id-2 div.sk-label:hover label.sk-toggleable__label {background-color: #d4ebff;}#sk-container-id-2 div.sk-serial::before {content: \"\";position: absolute;border-left: 1px solid gray;box-sizing: border-box;top: 0;bottom: 0;left: 50%;z-index: 0;}#sk-container-id-2 div.sk-serial {display: flex;flex-direction: column;align-items: center;background-color: white;padding-right: 0.2em;padding-left: 0.2em;position: relative;}#sk-container-id-2 div.sk-item {position: relative;z-index: 1;}#sk-container-id-2 div.sk-parallel {display: flex;align-items: stretch;justify-content: center;background-color: white;position: relative;}#sk-container-id-2 div.sk-item::before, #sk-container-id-2 div.sk-parallel-item::before {content: \"\";position: absolute;border-left: 1px solid gray;box-sizing: border-box;top: 0;bottom: 0;left: 50%;z-index: -1;}#sk-container-id-2 div.sk-parallel-item {display: flex;flex-direction: column;z-index: 1;position: relative;background-color: white;}#sk-container-id-2 div.sk-parallel-item:first-child::after {align-self: flex-end;width: 50%;}#sk-container-id-2 div.sk-parallel-item:last-child::after {align-self: flex-start;width: 50%;}#sk-container-id-2 div.sk-parallel-item:only-child::after {width: 0;}#sk-container-id-2 div.sk-dashed-wrapped {border: 1px dashed gray;margin: 0 0.4em 0.5em 0.4em;box-sizing: border-box;padding-bottom: 0.4em;background-color: white;}#sk-container-id-2 div.sk-label label {font-family: monospace;font-weight: bold;display: inline-block;line-height: 1.2em;}#sk-container-id-2 div.sk-label-container {text-align: center;}#sk-container-id-2 div.sk-container {/* jupyter's `normalize.less` sets `[hidden] { display: none; }` but bootstrap.min.css set `[hidden] { display: none !important; }` so we also need the `!important` here to be able to override the default hidden behavior on the sphinx rendered scikit-learn.org. See: https://github.com/scikit-learn/scikit-learn/issues/21755 */display: inline-block !important;position: relative;}#sk-container-id-2 div.sk-text-repr-fallback {display: none;}</style><div id=\"sk-container-id-2\" class=\"sk-top-container\"><div class=\"sk-text-repr-fallback\"><pre>KNeighborsClassifier()</pre><b>In a Jupyter environment, please rerun this cell to show the HTML representation or trust the notebook. <br />On GitHub, the HTML representation is unable to render, please try loading this page with nbviewer.org.</b></div><div class=\"sk-container\" hidden><div class=\"sk-item\"><div class=\"sk-estimator sk-toggleable\"><input class=\"sk-toggleable__control sk-hidden--visually\" id=\"sk-estimator-id-2\" type=\"checkbox\" checked><label for=\"sk-estimator-id-2\" class=\"sk-toggleable__label sk-toggleable__label-arrow\">KNeighborsClassifier</label><div class=\"sk-toggleable__content\"><pre>KNeighborsClassifier()</pre></div></div></div></div></div>"
      ],
      "text/plain": [
       "KNeighborsClassifier()"
      ]
     },
     "execution_count": 78,
     "metadata": {},
     "output_type": "execute_result"
    }
   ],
   "source": [
    "knn_classifier = KNeighborsClassifier(n_neighbors=5)\n",
    "knn_classifier.fit(X_train_TF_RF,y_train_TF_RF)"
   ]
  },
  {
   "cell_type": "code",
   "execution_count": 79,
   "metadata": {},
   "outputs": [],
   "source": [
    "knn_classifier_predictions = knn_classifier.predict(X_test_TF_RF)"
   ]
  },
  {
   "cell_type": "code",
   "execution_count": 80,
   "metadata": {},
   "outputs": [
    {
     "name": "stdout",
     "output_type": "stream",
     "text": [
      "Macro F-score with TF IDF: 0.2694855781765116\n"
     ]
    }
   ],
   "source": [
    "print(\" KNN Macro F-score with TF IDF:\", f1_score(y_test_TF_RF, knn_classifier_predictions, average='macro'))"
   ]
  },
  {
   "cell_type": "code",
   "execution_count": 81,
   "metadata": {},
   "outputs": [
    {
     "name": "stdout",
     "output_type": "stream",
     "text": [
      "KNN Macro F-score with TF IDF testing: 0.2959888683250385\n"
     ]
    }
   ],
   "source": [
    "print(\"KNN Macro F-score with TF IDF testing:\", f1_score(testing_labels, knn_classifier.predict(tfidf_matrix_RF_testing), average='macro'))"
   ]
  },
  {
   "cell_type": "markdown",
   "metadata": {},
   "source": [
    "# Ensemble using KNN, decision tree classifier,Random forest, and naive Bayes models."
   ]
  },
  {
   "cell_type": "code",
   "execution_count": 85,
   "metadata": {},
   "outputs": [],
   "source": [
    "X_tfidf_ensemble, labels_ensemble, tfidf_vectorizer_ensemble = tfidf_representation(lemmatized_data)"
   ]
  },
  {
   "cell_type": "code",
   "execution_count": 86,
   "metadata": {},
   "outputs": [],
   "source": [
    "X_tfidf_ensemble, labels_ensemble, tfidf_vectorizer_ensemble = tfidf_representation(lemmatized_data)"
   ]
  },
  {
   "cell_type": "code",
   "execution_count": 87,
   "metadata": {},
   "outputs": [],
   "source": [
    "X_train_ensemble, X_test_ensemble, y_train_ensemble, y_test_ensemble = train_test_split(X_tfidf_ensemble, labels_ensemble, test_size=0.2, random_state=42)"
   ]
  },
  {
   "cell_type": "code",
   "execution_count": 88,
   "metadata": {},
   "outputs": [
    {
     "data": {
      "text/html": [
       "<style>#sk-container-id-3 {color: black;}#sk-container-id-3 pre{padding: 0;}#sk-container-id-3 div.sk-toggleable {background-color: white;}#sk-container-id-3 label.sk-toggleable__label {cursor: pointer;display: block;width: 100%;margin-bottom: 0;padding: 0.3em;box-sizing: border-box;text-align: center;}#sk-container-id-3 label.sk-toggleable__label-arrow:before {content: \"▸\";float: left;margin-right: 0.25em;color: #696969;}#sk-container-id-3 label.sk-toggleable__label-arrow:hover:before {color: black;}#sk-container-id-3 div.sk-estimator:hover label.sk-toggleable__label-arrow:before {color: black;}#sk-container-id-3 div.sk-toggleable__content {max-height: 0;max-width: 0;overflow: hidden;text-align: left;background-color: #f0f8ff;}#sk-container-id-3 div.sk-toggleable__content pre {margin: 0.2em;color: black;border-radius: 0.25em;background-color: #f0f8ff;}#sk-container-id-3 input.sk-toggleable__control:checked~div.sk-toggleable__content {max-height: 200px;max-width: 100%;overflow: auto;}#sk-container-id-3 input.sk-toggleable__control:checked~label.sk-toggleable__label-arrow:before {content: \"▾\";}#sk-container-id-3 div.sk-estimator input.sk-toggleable__control:checked~label.sk-toggleable__label {background-color: #d4ebff;}#sk-container-id-3 div.sk-label input.sk-toggleable__control:checked~label.sk-toggleable__label {background-color: #d4ebff;}#sk-container-id-3 input.sk-hidden--visually {border: 0;clip: rect(1px 1px 1px 1px);clip: rect(1px, 1px, 1px, 1px);height: 1px;margin: -1px;overflow: hidden;padding: 0;position: absolute;width: 1px;}#sk-container-id-3 div.sk-estimator {font-family: monospace;background-color: #f0f8ff;border: 1px dotted black;border-radius: 0.25em;box-sizing: border-box;margin-bottom: 0.5em;}#sk-container-id-3 div.sk-estimator:hover {background-color: #d4ebff;}#sk-container-id-3 div.sk-parallel-item::after {content: \"\";width: 100%;border-bottom: 1px solid gray;flex-grow: 1;}#sk-container-id-3 div.sk-label:hover label.sk-toggleable__label {background-color: #d4ebff;}#sk-container-id-3 div.sk-serial::before {content: \"\";position: absolute;border-left: 1px solid gray;box-sizing: border-box;top: 0;bottom: 0;left: 50%;z-index: 0;}#sk-container-id-3 div.sk-serial {display: flex;flex-direction: column;align-items: center;background-color: white;padding-right: 0.2em;padding-left: 0.2em;position: relative;}#sk-container-id-3 div.sk-item {position: relative;z-index: 1;}#sk-container-id-3 div.sk-parallel {display: flex;align-items: stretch;justify-content: center;background-color: white;position: relative;}#sk-container-id-3 div.sk-item::before, #sk-container-id-3 div.sk-parallel-item::before {content: \"\";position: absolute;border-left: 1px solid gray;box-sizing: border-box;top: 0;bottom: 0;left: 50%;z-index: -1;}#sk-container-id-3 div.sk-parallel-item {display: flex;flex-direction: column;z-index: 1;position: relative;background-color: white;}#sk-container-id-3 div.sk-parallel-item:first-child::after {align-self: flex-end;width: 50%;}#sk-container-id-3 div.sk-parallel-item:last-child::after {align-self: flex-start;width: 50%;}#sk-container-id-3 div.sk-parallel-item:only-child::after {width: 0;}#sk-container-id-3 div.sk-dashed-wrapped {border: 1px dashed gray;margin: 0 0.4em 0.5em 0.4em;box-sizing: border-box;padding-bottom: 0.4em;background-color: white;}#sk-container-id-3 div.sk-label label {font-family: monospace;font-weight: bold;display: inline-block;line-height: 1.2em;}#sk-container-id-3 div.sk-label-container {text-align: center;}#sk-container-id-3 div.sk-container {/* jupyter's `normalize.less` sets `[hidden] { display: none; }` but bootstrap.min.css set `[hidden] { display: none !important; }` so we also need the `!important` here to be able to override the default hidden behavior on the sphinx rendered scikit-learn.org. See: https://github.com/scikit-learn/scikit-learn/issues/21755 */display: inline-block !important;position: relative;}#sk-container-id-3 div.sk-text-repr-fallback {display: none;}</style><div id=\"sk-container-id-3\" class=\"sk-top-container\"><div class=\"sk-text-repr-fallback\"><pre>RandomForestClassifier(class_weight={&#x27;acq&#x27;: 867.5096170496171,\n",
       "                                     &#x27;alum&#x27;: 40896.88194662481,\n",
       "                                     &#x27;barley&#x27;: 38686.23967923968,\n",
       "                                     &#x27;bop&#x27;: 19085.211575091576,\n",
       "                                     &#x27;carcass&#x27;: 28627.81736263736,\n",
       "                                     &#x27;castor-oil&#x27;: 1431390.868131868,\n",
       "                                     &#x27;cocoa&#x27;: 26025.288511488514,\n",
       "                                     &#x27;coconut&#x27;: 357847.717032967,\n",
       "                                     &#x27;coconut-oil&#x27;: 357847.717032967,\n",
       "                                     &#x27;coffee&#x27;: 12895.413226413228,\n",
       "                                     &#x27;copper&#x27;: 30455.12485386954,\n",
       "                                     &#x27;copra-cake&#x27;:...\n",
       "                                     &#x27;crude&#x27;: 3679.668041470098,\n",
       "                                     &#x27;dfl&#x27;: 715695.434065934,\n",
       "                                     &#x27;dlr&#x27;: 10926.647848334871,\n",
       "                                     &#x27;dmk&#x27;: 143139.08681318682,\n",
       "                                     &#x27;earn&#x27;: 497.52897745285657,\n",
       "                                     &#x27;fuel&#x27;: 110106.98985629754,\n",
       "                                     &#x27;gas&#x27;: 38686.23967923968,\n",
       "                                     &#x27;gnp&#x27;: 14172.186813186812,\n",
       "                                     &#x27;gold&#x27;: 15227.56242693477,\n",
       "                                     &#x27;grain&#x27;: 3305.752582290688,\n",
       "                                     &#x27;groundnut&#x27;: 286278.17362637364,\n",
       "                                     &#x27;groundnut-oil&#x27;: 1431390.868131868,\n",
       "                                     &#x27;heat&#x27;: 102242.20486656201, ...},\n",
       "                       random_state=42)</pre><b>In a Jupyter environment, please rerun this cell to show the HTML representation or trust the notebook. <br />On GitHub, the HTML representation is unable to render, please try loading this page with nbviewer.org.</b></div><div class=\"sk-container\" hidden><div class=\"sk-item\"><div class=\"sk-estimator sk-toggleable\"><input class=\"sk-toggleable__control sk-hidden--visually\" id=\"sk-estimator-id-3\" type=\"checkbox\" checked><label for=\"sk-estimator-id-3\" class=\"sk-toggleable__label sk-toggleable__label-arrow\">RandomForestClassifier</label><div class=\"sk-toggleable__content\"><pre>RandomForestClassifier(class_weight={&#x27;acq&#x27;: 867.5096170496171,\n",
       "                                     &#x27;alum&#x27;: 40896.88194662481,\n",
       "                                     &#x27;barley&#x27;: 38686.23967923968,\n",
       "                                     &#x27;bop&#x27;: 19085.211575091576,\n",
       "                                     &#x27;carcass&#x27;: 28627.81736263736,\n",
       "                                     &#x27;castor-oil&#x27;: 1431390.868131868,\n",
       "                                     &#x27;cocoa&#x27;: 26025.288511488514,\n",
       "                                     &#x27;coconut&#x27;: 357847.717032967,\n",
       "                                     &#x27;coconut-oil&#x27;: 357847.717032967,\n",
       "                                     &#x27;coffee&#x27;: 12895.413226413228,\n",
       "                                     &#x27;copper&#x27;: 30455.12485386954,\n",
       "                                     &#x27;copra-cake&#x27;:...\n",
       "                                     &#x27;crude&#x27;: 3679.668041470098,\n",
       "                                     &#x27;dfl&#x27;: 715695.434065934,\n",
       "                                     &#x27;dlr&#x27;: 10926.647848334871,\n",
       "                                     &#x27;dmk&#x27;: 143139.08681318682,\n",
       "                                     &#x27;earn&#x27;: 497.52897745285657,\n",
       "                                     &#x27;fuel&#x27;: 110106.98985629754,\n",
       "                                     &#x27;gas&#x27;: 38686.23967923968,\n",
       "                                     &#x27;gnp&#x27;: 14172.186813186812,\n",
       "                                     &#x27;gold&#x27;: 15227.56242693477,\n",
       "                                     &#x27;grain&#x27;: 3305.752582290688,\n",
       "                                     &#x27;groundnut&#x27;: 286278.17362637364,\n",
       "                                     &#x27;groundnut-oil&#x27;: 1431390.868131868,\n",
       "                                     &#x27;heat&#x27;: 102242.20486656201, ...},\n",
       "                       random_state=42)</pre></div></div></div></div></div>"
      ],
      "text/plain": [
       "RandomForestClassifier(class_weight={'acq': 867.5096170496171,\n",
       "                                     'alum': 40896.88194662481,\n",
       "                                     'barley': 38686.23967923968,\n",
       "                                     'bop': 19085.211575091576,\n",
       "                                     'carcass': 28627.81736263736,\n",
       "                                     'castor-oil': 1431390.868131868,\n",
       "                                     'cocoa': 26025.288511488514,\n",
       "                                     'coconut': 357847.717032967,\n",
       "                                     'coconut-oil': 357847.717032967,\n",
       "                                     'coffee': 12895.413226413228,\n",
       "                                     'copper': 30455.12485386954,\n",
       "                                     'copra-cake':...\n",
       "                                     'crude': 3679.668041470098,\n",
       "                                     'dfl': 715695.434065934,\n",
       "                                     'dlr': 10926.647848334871,\n",
       "                                     'dmk': 143139.08681318682,\n",
       "                                     'earn': 497.52897745285657,\n",
       "                                     'fuel': 110106.98985629754,\n",
       "                                     'gas': 38686.23967923968,\n",
       "                                     'gnp': 14172.186813186812,\n",
       "                                     'gold': 15227.56242693477,\n",
       "                                     'grain': 3305.752582290688,\n",
       "                                     'groundnut': 286278.17362637364,\n",
       "                                     'groundnut-oil': 1431390.868131868,\n",
       "                                     'heat': 102242.20486656201, ...},\n",
       "                       random_state=42)"
      ]
     },
     "execution_count": 88,
     "metadata": {},
     "output_type": "execute_result"
    }
   ],
   "source": [
    "# Train KNN model\n",
    "knn_model = KNeighborsClassifier(n_neighbors=5)\n",
    "knn_model.fit(X_train_ensemble, y_train_ensemble)\n",
    "\n",
    "\n",
    "# Train decision tree classifier\n",
    "decision_tree_model = DecisionTreeClassifier(class_weight=class_weights)\n",
    "decision_tree_model.fit(X_train_ensemble, y_train_ensemble)\n",
    "\n",
    "# Train random forest classifier\n",
    "RF_ensemble_classifier = RandomForestClassifier(n_estimators=100, random_state=42,class_weight=class_weights)\n",
    "RF_ensemble_classifier.fit(X_train_ensemble, y_train_ensemble)"
   ]
  },
  {
   "cell_type": "code",
   "execution_count": 89,
   "metadata": {},
   "outputs": [],
   "source": [
    "# Generate predictions from logistic regression model\n",
    "knn_model_predictions = knn_model.predict(X_test_ensemble)\n",
    "\n",
    "# Generate predictions from decision tree classifier\n",
    "decision_tree_predictions = decision_tree_model.predict(X_test_ensemble)\n",
    "\n",
    "# Generate predictions from random forest classifier\n",
    "random_forest_predictions = RF_ensemble_classifier.predict(X_test_ensemble)"
   ]
  },
  {
   "cell_type": "code",
   "execution_count": 90,
   "metadata": {},
   "outputs": [],
   "source": [
    "import scipy.sparse as sp\n",
    "\n",
    "def reverse_tfidf(X_tfidf, tfidf_vectorizer):\n",
    "    reverse_mapping = {v: k for k, v in tfidf_vectorizer.vocabulary_.items()}\n",
    "    if sp.issparse(X_tfidf):\n",
    "        return [' '.join([reverse_mapping.get(idx) for idx in row.indices]) for row in X_tfidf]\n",
    "    else:\n",
    "        return [' '.join([reverse_mapping.get(idx) for idx, value in enumerate(row) if value != 0]) for row in X_tfidf]"
   ]
  },
  {
   "cell_type": "code",
   "execution_count": 91,
   "metadata": {},
   "outputs": [],
   "source": [
    "X_test_text_ensemble = reverse_tfidf(X_test_ensemble, tfidf_vectorizer_ensemble)"
   ]
  },
  {
   "cell_type": "code",
   "execution_count": 92,
   "metadata": {},
   "outputs": [],
   "source": [
    "nb_predictions = [predict_NB(doc.split(), prior_probs, likelihood_probs) for doc in X_test_text_ensemble]"
   ]
  },
  {
   "cell_type": "code",
   "execution_count": 93,
   "metadata": {},
   "outputs": [],
   "source": [
    "nb_predicted_classes = [max(pred, key=pred.get) for pred in nb_predictions]"
   ]
  },
  {
   "cell_type": "code",
   "execution_count": 94,
   "metadata": {},
   "outputs": [],
   "source": [
    "# Perform majority voting\n",
    "\n",
    "ensemble_predictions_majority = np.array([\n",
    "    max(set([nb_pred, knn_pred, dt_pred, rf_pred]), key=[nb_pred, knn_pred, dt_pred, rf_pred].count)\n",
    "    for nb_pred, knn_pred, dt_pred, rf_pred in zip(nb_predicted_classes, knn_model_predictions, decision_tree_predictions, random_forest_predictions)\n",
    "])"
   ]
  },
  {
   "cell_type": "code",
   "execution_count": 95,
   "metadata": {},
   "outputs": [
    {
     "name": "stdout",
     "output_type": "stream",
     "text": [
      " Ensemble Macro-averaged F1 score with TF IDF: 0.25631971648899254\n"
     ]
    }
   ],
   "source": [
    "print(\" Ensemble Macro-averaged F1 score with TF IDF:\", f1_score(y_test_ensemble, ensemble_predictions_majority, average='macro'))"
   ]
  },
  {
   "cell_type": "code",
   "execution_count": 96,
   "metadata": {},
   "outputs": [],
   "source": [
    "lemmatized_testing_texts = []\n",
    "\n",
    "for class_name, documents in lemmatized_test_data.items():\n",
    "    for doc_num, tokens in documents.items():\n",
    "         lemmatized_testing_texts.append(\" \".join(tokens))"
   ]
  },
  {
   "cell_type": "code",
   "execution_count": 97,
   "metadata": {},
   "outputs": [],
   "source": [
    "X_tfidf_ensemble_testing = tfidf_vectorizer_ensemble.transform(lemmatized_testing_texts)"
   ]
  },
  {
   "cell_type": "code",
   "execution_count": 98,
   "metadata": {},
   "outputs": [],
   "source": [
    "testing_knn_predictions = knn_model.predict(X_tfidf_ensemble_testing)\n",
    "testing_decision_tree_predictions = decision_tree_model.predict(X_tfidf_ensemble_testing)\n",
    "testing_random_forest_predictions = RF_ensemble_classifier.predict(X_tfidf_ensemble_testing)"
   ]
  },
  {
   "cell_type": "code",
   "execution_count": 99,
   "metadata": {},
   "outputs": [],
   "source": [
    "testing_nb_predictions = [predict_NB(doc.split(), prior_probs, likelihood_probs) for doc in lemmatized_testing_texts]"
   ]
  },
  {
   "cell_type": "code",
   "execution_count": 100,
   "metadata": {},
   "outputs": [],
   "source": [
    "nb_predicted_classes_ensemble_testing = [max(pred, key=pred.get) for pred in testing_nb_predictions]"
   ]
  },
  {
   "cell_type": "code",
   "execution_count": 101,
   "metadata": {},
   "outputs": [],
   "source": [
    "# Perform majority voting\n",
    "ensemble_predictions_majority_testing = np.array([\n",
    "    max(set([nb_pred, knn_pred, dt_pred, rf_pred]), key=[nb_pred, knn_pred, dt_pred, rf_pred].count)\n",
    "    for nb_pred, knn_pred, dt_pred, rf_pred in zip(nb_predicted_classes_ensemble_testing, testing_knn_predictions, testing_decision_tree_predictions, testing_random_forest_predictions)\n",
    "])"
   ]
  },
  {
   "cell_type": "code",
   "execution_count": 102,
   "metadata": {},
   "outputs": [
    {
     "name": "stdout",
     "output_type": "stream",
     "text": [
      "Ensemble Macro-averaged F1 score with TF IDF testing : 0.34474914057844436\n"
     ]
    }
   ],
   "source": [
    "print(\"Ensemble Macro-averaged F1 score with TF IDF testing :\", f1_score(test_labels, ensemble_predictions_majority_testing, average='macro'))"
   ]
  },
  {
   "cell_type": "markdown",
   "metadata": {},
   "source": [
    "# SVM (embedding)"
   ]
  },
  {
   "cell_type": "code",
   "execution_count": null,
   "metadata": {},
   "outputs": [],
   "source": [
    "# Define the parameter grid\n",
    "param_grid_SVM = {\n",
    "    'kernel': ['poly', 'rbf'],\n",
    "    'C': [0.1, 1, 10], \n",
    "    'gamma': ['scale', 'auto']  \n",
    "}\n"
   ]
  },
  {
   "cell_type": "code",
   "execution_count": null,
   "metadata": {},
   "outputs": [],
   "source": [
    "# # Initialize the SVM classifier\n",
    "# svm_classifier_model = SVC(class_weight=class_weights)"
   ]
  },
  {
   "cell_type": "code",
   "execution_count": null,
   "metadata": {},
   "outputs": [],
   "source": [
    "# # Perform grid search\n",
    "# svm_grid_search = GridSearchCV(estimator=svm_classifier_model, param_grid=param_grid_SVM, cv=5, scoring='f1_macro')\n",
    "# svm_grid_search.fit(X_train_glove, y_train_glove)"
   ]
  },
  {
   "cell_type": "code",
   "execution_count": null,
   "metadata": {},
   "outputs": [],
   "source": [
    "# # Get the best hyperparameters\n",
    "# svm_best_params = svm_grid_search.best_params_\n",
    "# print(\"Best Hyperparameters:\", svm_best_params)"
   ]
  },
  {
   "cell_type": "code",
   "execution_count": 103,
   "metadata": {},
   "outputs": [
    {
     "data": {
      "text/html": [
       "<style>#sk-container-id-4 {color: black;}#sk-container-id-4 pre{padding: 0;}#sk-container-id-4 div.sk-toggleable {background-color: white;}#sk-container-id-4 label.sk-toggleable__label {cursor: pointer;display: block;width: 100%;margin-bottom: 0;padding: 0.3em;box-sizing: border-box;text-align: center;}#sk-container-id-4 label.sk-toggleable__label-arrow:before {content: \"▸\";float: left;margin-right: 0.25em;color: #696969;}#sk-container-id-4 label.sk-toggleable__label-arrow:hover:before {color: black;}#sk-container-id-4 div.sk-estimator:hover label.sk-toggleable__label-arrow:before {color: black;}#sk-container-id-4 div.sk-toggleable__content {max-height: 0;max-width: 0;overflow: hidden;text-align: left;background-color: #f0f8ff;}#sk-container-id-4 div.sk-toggleable__content pre {margin: 0.2em;color: black;border-radius: 0.25em;background-color: #f0f8ff;}#sk-container-id-4 input.sk-toggleable__control:checked~div.sk-toggleable__content {max-height: 200px;max-width: 100%;overflow: auto;}#sk-container-id-4 input.sk-toggleable__control:checked~label.sk-toggleable__label-arrow:before {content: \"▾\";}#sk-container-id-4 div.sk-estimator input.sk-toggleable__control:checked~label.sk-toggleable__label {background-color: #d4ebff;}#sk-container-id-4 div.sk-label input.sk-toggleable__control:checked~label.sk-toggleable__label {background-color: #d4ebff;}#sk-container-id-4 input.sk-hidden--visually {border: 0;clip: rect(1px 1px 1px 1px);clip: rect(1px, 1px, 1px, 1px);height: 1px;margin: -1px;overflow: hidden;padding: 0;position: absolute;width: 1px;}#sk-container-id-4 div.sk-estimator {font-family: monospace;background-color: #f0f8ff;border: 1px dotted black;border-radius: 0.25em;box-sizing: border-box;margin-bottom: 0.5em;}#sk-container-id-4 div.sk-estimator:hover {background-color: #d4ebff;}#sk-container-id-4 div.sk-parallel-item::after {content: \"\";width: 100%;border-bottom: 1px solid gray;flex-grow: 1;}#sk-container-id-4 div.sk-label:hover label.sk-toggleable__label {background-color: #d4ebff;}#sk-container-id-4 div.sk-serial::before {content: \"\";position: absolute;border-left: 1px solid gray;box-sizing: border-box;top: 0;bottom: 0;left: 50%;z-index: 0;}#sk-container-id-4 div.sk-serial {display: flex;flex-direction: column;align-items: center;background-color: white;padding-right: 0.2em;padding-left: 0.2em;position: relative;}#sk-container-id-4 div.sk-item {position: relative;z-index: 1;}#sk-container-id-4 div.sk-parallel {display: flex;align-items: stretch;justify-content: center;background-color: white;position: relative;}#sk-container-id-4 div.sk-item::before, #sk-container-id-4 div.sk-parallel-item::before {content: \"\";position: absolute;border-left: 1px solid gray;box-sizing: border-box;top: 0;bottom: 0;left: 50%;z-index: -1;}#sk-container-id-4 div.sk-parallel-item {display: flex;flex-direction: column;z-index: 1;position: relative;background-color: white;}#sk-container-id-4 div.sk-parallel-item:first-child::after {align-self: flex-end;width: 50%;}#sk-container-id-4 div.sk-parallel-item:last-child::after {align-self: flex-start;width: 50%;}#sk-container-id-4 div.sk-parallel-item:only-child::after {width: 0;}#sk-container-id-4 div.sk-dashed-wrapped {border: 1px dashed gray;margin: 0 0.4em 0.5em 0.4em;box-sizing: border-box;padding-bottom: 0.4em;background-color: white;}#sk-container-id-4 div.sk-label label {font-family: monospace;font-weight: bold;display: inline-block;line-height: 1.2em;}#sk-container-id-4 div.sk-label-container {text-align: center;}#sk-container-id-4 div.sk-container {/* jupyter's `normalize.less` sets `[hidden] { display: none; }` but bootstrap.min.css set `[hidden] { display: none !important; }` so we also need the `!important` here to be able to override the default hidden behavior on the sphinx rendered scikit-learn.org. See: https://github.com/scikit-learn/scikit-learn/issues/21755 */display: inline-block !important;position: relative;}#sk-container-id-4 div.sk-text-repr-fallback {display: none;}</style><div id=\"sk-container-id-4\" class=\"sk-top-container\"><div class=\"sk-text-repr-fallback\"><pre>SVC(C=10,\n",
       "    class_weight={&#x27;acq&#x27;: 867.5096170496171, &#x27;alum&#x27;: 40896.88194662481,\n",
       "                  &#x27;barley&#x27;: 38686.23967923968, &#x27;bop&#x27;: 19085.211575091576,\n",
       "                  &#x27;carcass&#x27;: 28627.81736263736, &#x27;castor-oil&#x27;: 1431390.868131868,\n",
       "                  &#x27;cocoa&#x27;: 26025.288511488514, &#x27;coconut&#x27;: 357847.717032967,\n",
       "                  &#x27;coconut-oil&#x27;: 357847.717032967, &#x27;coffee&#x27;: 12895.413226413228,\n",
       "                  &#x27;copper&#x27;: 30455.12485386954, &#x27;copra-cake&#x27;: 715695.4340659...\n",
       "                  &#x27;cpu&#x27;: 477130.28937728936, &#x27;crude&#x27;: 3679.668041470098,\n",
       "                  &#x27;dfl&#x27;: 715695.434065934, &#x27;dlr&#x27;: 10926.647848334871,\n",
       "                  &#x27;dmk&#x27;: 143139.08681318682, &#x27;earn&#x27;: 497.52897745285657,\n",
       "                  &#x27;fuel&#x27;: 110106.98985629754, &#x27;gas&#x27;: 38686.23967923968,\n",
       "                  &#x27;gnp&#x27;: 14172.186813186812, &#x27;gold&#x27;: 15227.56242693477,\n",
       "                  &#x27;grain&#x27;: 3305.752582290688, &#x27;groundnut&#x27;: 286278.17362637364,\n",
       "                  &#x27;groundnut-oil&#x27;: 1431390.868131868,\n",
       "                  &#x27;heat&#x27;: 102242.20486656201, ...},\n",
       "    kernel=&#x27;poly&#x27;)</pre><b>In a Jupyter environment, please rerun this cell to show the HTML representation or trust the notebook. <br />On GitHub, the HTML representation is unable to render, please try loading this page with nbviewer.org.</b></div><div class=\"sk-container\" hidden><div class=\"sk-item\"><div class=\"sk-estimator sk-toggleable\"><input class=\"sk-toggleable__control sk-hidden--visually\" id=\"sk-estimator-id-4\" type=\"checkbox\" checked><label for=\"sk-estimator-id-4\" class=\"sk-toggleable__label sk-toggleable__label-arrow\">SVC</label><div class=\"sk-toggleable__content\"><pre>SVC(C=10,\n",
       "    class_weight={&#x27;acq&#x27;: 867.5096170496171, &#x27;alum&#x27;: 40896.88194662481,\n",
       "                  &#x27;barley&#x27;: 38686.23967923968, &#x27;bop&#x27;: 19085.211575091576,\n",
       "                  &#x27;carcass&#x27;: 28627.81736263736, &#x27;castor-oil&#x27;: 1431390.868131868,\n",
       "                  &#x27;cocoa&#x27;: 26025.288511488514, &#x27;coconut&#x27;: 357847.717032967,\n",
       "                  &#x27;coconut-oil&#x27;: 357847.717032967, &#x27;coffee&#x27;: 12895.413226413228,\n",
       "                  &#x27;copper&#x27;: 30455.12485386954, &#x27;copra-cake&#x27;: 715695.4340659...\n",
       "                  &#x27;cpu&#x27;: 477130.28937728936, &#x27;crude&#x27;: 3679.668041470098,\n",
       "                  &#x27;dfl&#x27;: 715695.434065934, &#x27;dlr&#x27;: 10926.647848334871,\n",
       "                  &#x27;dmk&#x27;: 143139.08681318682, &#x27;earn&#x27;: 497.52897745285657,\n",
       "                  &#x27;fuel&#x27;: 110106.98985629754, &#x27;gas&#x27;: 38686.23967923968,\n",
       "                  &#x27;gnp&#x27;: 14172.186813186812, &#x27;gold&#x27;: 15227.56242693477,\n",
       "                  &#x27;grain&#x27;: 3305.752582290688, &#x27;groundnut&#x27;: 286278.17362637364,\n",
       "                  &#x27;groundnut-oil&#x27;: 1431390.868131868,\n",
       "                  &#x27;heat&#x27;: 102242.20486656201, ...},\n",
       "    kernel=&#x27;poly&#x27;)</pre></div></div></div></div></div>"
      ],
      "text/plain": [
       "SVC(C=10,\n",
       "    class_weight={'acq': 867.5096170496171, 'alum': 40896.88194662481,\n",
       "                  'barley': 38686.23967923968, 'bop': 19085.211575091576,\n",
       "                  'carcass': 28627.81736263736, 'castor-oil': 1431390.868131868,\n",
       "                  'cocoa': 26025.288511488514, 'coconut': 357847.717032967,\n",
       "                  'coconut-oil': 357847.717032967, 'coffee': 12895.413226413228,\n",
       "                  'copper': 30455.12485386954, 'copra-cake': 715695.4340659...\n",
       "                  'cpu': 477130.28937728936, 'crude': 3679.668041470098,\n",
       "                  'dfl': 715695.434065934, 'dlr': 10926.647848334871,\n",
       "                  'dmk': 143139.08681318682, 'earn': 497.52897745285657,\n",
       "                  'fuel': 110106.98985629754, 'gas': 38686.23967923968,\n",
       "                  'gnp': 14172.186813186812, 'gold': 15227.56242693477,\n",
       "                  'grain': 3305.752582290688, 'groundnut': 286278.17362637364,\n",
       "                  'groundnut-oil': 1431390.868131868,\n",
       "                  'heat': 102242.20486656201, ...},\n",
       "    kernel='poly')"
      ]
     },
     "execution_count": 103,
     "metadata": {},
     "output_type": "execute_result"
    }
   ],
   "source": [
    "svm_classifier = svm.SVC(C=10, gamma='scale', kernel='poly',class_weight=class_weights)\n",
    "svm_classifier.fit(X_train_glove, y_train_glove)"
   ]
  },
  {
   "cell_type": "code",
   "execution_count": 104,
   "metadata": {},
   "outputs": [],
   "source": [
    "y_pred_svm = svm_classifier.predict(X_test_glove)"
   ]
  },
  {
   "cell_type": "code",
   "execution_count": 105,
   "metadata": {},
   "outputs": [
    {
     "name": "stdout",
     "output_type": "stream",
     "text": [
      " SVM Macro F1 score: 0.2472668330843564\n"
     ]
    }
   ],
   "source": [
    "print(\" SVM Macro F1 score:\", f1_score(y_test_glove, y_pred_svm, average='macro'))"
   ]
  },
  {
   "cell_type": "code",
   "execution_count": 106,
   "metadata": {},
   "outputs": [
    {
     "name": "stdout",
     "output_type": "stream",
     "text": [
      " SVM Macro F1 score: 0.3126754698153731\n"
     ]
    }
   ],
   "source": [
    "y_pred_svm_testing = svm_classifier.predict(X_glove_test)\n",
    "print(\" SVM Macro F1 score:\", f1_score(y_glove_test, y_pred_svm_testing, average='macro'))"
   ]
  },
  {
   "cell_type": "markdown",
   "metadata": {},
   "source": [
    "# RNN ( LSTM )"
   ]
  },
  {
   "cell_type": "code",
   "execution_count": 107,
   "metadata": {},
   "outputs": [],
   "source": [
    "tokenizer = tf.keras.preprocessing.text.Tokenizer()\n",
    "tokenizer.fit_on_texts([doc_content for class_docs in data_dict.values() for doc_content in class_docs.values()])"
   ]
  },
  {
   "cell_type": "code",
   "execution_count": 108,
   "metadata": {},
   "outputs": [],
   "source": [
    "tokenized_sequences = []\n",
    "class_list = []\n",
    "\n",
    "for class_name, class_docs in data_dict.items():\n",
    "    for doc_num, doc_content in class_docs.items():\n",
    "        doc_tokens = tokenizer.texts_to_sequences([doc_content])[0]\n",
    "        tokenized_sequences.append(doc_tokens)\n",
    "        class_list.append(class_name)"
   ]
  },
  {
   "cell_type": "code",
   "execution_count": 109,
   "metadata": {},
   "outputs": [],
   "source": [
    "RNN_label_encoder = LabelEncoder()\n",
    "encoded_labels = RNN_label_encoder.fit_transform(class_list)"
   ]
  },
  {
   "cell_type": "code",
   "execution_count": 110,
   "metadata": {},
   "outputs": [],
   "source": [
    "avg_length = sum(len(seq) for seq in tokenized_sequences) // len(tokenized_sequences)\n",
    "padded_sequences = pad_sequences(tokenized_sequences, maxlen=avg_length)"
   ]
  },
  {
   "cell_type": "code",
   "execution_count": 111,
   "metadata": {},
   "outputs": [],
   "source": [
    "embedding_dim = 300\n",
    "vocab_size = len(tokenizer.word_index) + 1"
   ]
  },
  {
   "cell_type": "code",
   "execution_count": 112,
   "metadata": {},
   "outputs": [
    {
     "name": "stdout",
     "output_type": "stream",
     "text": [
      "Shape of padded sequences: (11413, 157)\n",
      "Shape of encoded labels: (11413,)\n"
     ]
    }
   ],
   "source": [
    "print(\"Shape of padded sequences:\", padded_sequences.shape)\n",
    "print(\"Shape of encoded labels:\", encoded_labels.shape)"
   ]
  },
  {
   "cell_type": "code",
   "execution_count": 113,
   "metadata": {},
   "outputs": [],
   "source": [
    "X_train_rnn, X_test_rnn, y_train_rnn, y_test_rnn = train_test_split(padded_sequences, encoded_labels, test_size=0.2, random_state=42)"
   ]
  },
  {
   "cell_type": "code",
   "execution_count": 114,
   "metadata": {},
   "outputs": [],
   "source": [
    "model = tf.keras.Sequential([\n",
    "    tf.keras.layers.Embedding(input_dim=vocab_size, output_dim=embedding_dim),\n",
    "    tf.keras.layers.LSTM(64),  \n",
    "    tf.keras.layers.Dense(128, activation='relu'),\n",
    "    tf.keras.layers.Dense(len(encoded_labels), activation='softmax')  \n",
    "])"
   ]
  },
  {
   "cell_type": "code",
   "execution_count": 115,
   "metadata": {},
   "outputs": [],
   "source": [
    "optimizer = tf.keras.optimizers.Adam(learning_rate=0.001)\n",
    "model.compile(loss='sparse_categorical_crossentropy', optimizer=optimizer, metrics=['accuracy'])"
   ]
  },
  {
   "cell_type": "code",
   "execution_count": 116,
   "metadata": {},
   "outputs": [
    {
     "name": "stdout",
     "output_type": "stream",
     "text": [
      "Epoch 1/10\n",
      "\u001b[1m257/257\u001b[0m \u001b[32m━━━━━━━━━━━━━━━━━━━━\u001b[0m\u001b[37m\u001b[0m \u001b[1m28s\u001b[0m 102ms/step - accuracy: 0.2368 - loss: 4.9769 - val_accuracy: 0.2618 - val_loss: 2.8243\n",
      "Epoch 2/10\n",
      "\u001b[1m257/257\u001b[0m \u001b[32m━━━━━━━━━━━━━━━━━━━━\u001b[0m\u001b[37m\u001b[0m \u001b[1m27s\u001b[0m 103ms/step - accuracy: 0.2608 - loss: 2.7581 - val_accuracy: 0.3341 - val_loss: 2.5918\n",
      "Epoch 3/10\n",
      "\u001b[1m257/257\u001b[0m \u001b[32m━━━━━━━━━━━━━━━━━━━━\u001b[0m\u001b[37m\u001b[0m \u001b[1m26s\u001b[0m 100ms/step - accuracy: 0.3333 - loss: 2.4323 - val_accuracy: 0.3921 - val_loss: 2.1999\n",
      "Epoch 4/10\n",
      "\u001b[1m257/257\u001b[0m \u001b[32m━━━━━━━━━━━━━━━━━━━━\u001b[0m\u001b[37m\u001b[0m \u001b[1m25s\u001b[0m 99ms/step - accuracy: 0.4395 - loss: 2.0363 - val_accuracy: 0.4765 - val_loss: 1.9242\n",
      "Epoch 5/10\n",
      "\u001b[1m257/257\u001b[0m \u001b[32m━━━━━━━━━━━━━━━━━━━━\u001b[0m\u001b[37m\u001b[0m \u001b[1m25s\u001b[0m 97ms/step - accuracy: 0.5766 - loss: 1.6230 - val_accuracy: 0.5685 - val_loss: 1.6976\n",
      "Epoch 6/10\n",
      "\u001b[1m257/257\u001b[0m \u001b[32m━━━━━━━━━━━━━━━━━━━━\u001b[0m\u001b[37m\u001b[0m \u001b[1m25s\u001b[0m 97ms/step - accuracy: 0.6432 - loss: 1.3402 - val_accuracy: 0.6002 - val_loss: 1.5933\n",
      "Epoch 7/10\n",
      "\u001b[1m257/257\u001b[0m \u001b[32m━━━━━━━━━━━━━━━━━━━━\u001b[0m\u001b[37m\u001b[0m \u001b[1m25s\u001b[0m 97ms/step - accuracy: 0.6840 - loss: 1.1055 - val_accuracy: 0.6134 - val_loss: 1.5571\n",
      "Epoch 8/10\n",
      "\u001b[1m257/257\u001b[0m \u001b[32m━━━━━━━━━━━━━━━━━━━━\u001b[0m\u001b[37m\u001b[0m \u001b[1m25s\u001b[0m 98ms/step - accuracy: 0.7348 - loss: 0.9162 - val_accuracy: 0.5958 - val_loss: 1.6368\n",
      "Epoch 9/10\n",
      "\u001b[1m257/257\u001b[0m \u001b[32m━━━━━━━━━━━━━━━━━━━━\u001b[0m\u001b[37m\u001b[0m \u001b[1m25s\u001b[0m 99ms/step - accuracy: 0.7584 - loss: 0.8005 - val_accuracy: 0.6386 - val_loss: 1.5538\n",
      "Epoch 10/10\n",
      "\u001b[1m257/257\u001b[0m \u001b[32m━━━━━━━━━━━━━━━━━━━━\u001b[0m\u001b[37m\u001b[0m \u001b[1m25s\u001b[0m 98ms/step - accuracy: 0.7756 - loss: 0.7051 - val_accuracy: 0.6298 - val_loss: 1.6450\n"
     ]
    }
   ],
   "source": [
    "history = model.fit(X_train_rnn, y_train_rnn, epochs=10, batch_size=32, validation_split=0.1)"
   ]
  },
  {
   "cell_type": "code",
   "execution_count": 117,
   "metadata": {},
   "outputs": [
    {
     "name": "stdout",
     "output_type": "stream",
     "text": [
      "\u001b[1m72/72\u001b[0m \u001b[32m━━━━━━━━━━━━━━━━━━━━\u001b[0m\u001b[37m\u001b[0m \u001b[1m1s\u001b[0m 14ms/step\n",
      "Macro F1 Score: 0.11927259756662931\n"
     ]
    }
   ],
   "source": [
    "y_pred_rnn = model.predict(X_test_rnn)\n",
    "y_pred_classes = np.argmax(y_pred_rnn, axis=1)\n",
    "\n",
    "print(\"Macro F1 Score:\", f1_score(y_test_rnn, y_pred_classes, average='macro'))"
   ]
  }
 ],
 "metadata": {
  "kernelspec": {
   "display_name": "Python 3",
   "language": "python",
   "name": "python3"
  },
  "language_info": {
   "codemirror_mode": {
    "name": "ipython",
    "version": 3
   },
   "file_extension": ".py",
   "mimetype": "text/x-python",
   "name": "python",
   "nbconvert_exporter": "python",
   "pygments_lexer": "ipython3",
   "version": "3.10.11"
  }
 },
 "nbformat": 4,
 "nbformat_minor": 2
}
